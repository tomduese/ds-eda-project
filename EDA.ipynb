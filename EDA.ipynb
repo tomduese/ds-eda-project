{
 "cells": [
  {
   "cell_type": "markdown",
   "metadata": {},
   "source": [
    "# EDA\n",
    "\n",
    "![](data:image/jpeg;base64,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)"
   ]
  },
  {
   "attachments": {},
   "cell_type": "markdown",
   "metadata": {},
   "source": [
    "Import the basic libraries and set the pandas format for floats"
   ]
  },
  {
   "cell_type": "code",
   "execution_count": 285,
   "metadata": {},
   "outputs": [],
   "source": [
    "import warnings\n",
    "\n",
    "warnings.filterwarnings(\"ignore\")\n",
    "\n",
    "import pandas as pd\n",
    "import numpy as np\n",
    "import matplotlib.pyplot as plt\n",
    "import seaborn as sns\n",
    "import plotly.express as px\n",
    "\n",
    "\n",
    "from matplotlib.ticker import PercentFormatter\n",
    "\n",
    "plt.rcParams.update(\n",
    "    {\"figure.figsize\": (8, 5), \"axes.facecolor\": \"white\", \"axes.edgecolor\": \"black\"}\n",
    ")\n",
    "plt.rcParams[\"figure.facecolor\"] = \"w\"\n",
    "pd.plotting.register_matplotlib_converters()\n",
    "pd.set_option(\"display.float_format\", lambda x: \"%.3f\" % x)"
   ]
  },
  {
   "attachments": {},
   "cell_type": "markdown",
   "metadata": {},
   "source": [
    "Import the data from .csv file"
   ]
  },
  {
   "cell_type": "code",
   "execution_count": 286,
   "metadata": {},
   "outputs": [
    {
     "name": "stdout",
     "output_type": "stream",
     "text": [
      "<class 'pandas.core.frame.DataFrame'>\n",
      "RangeIndex: 21597 entries, 0 to 21596\n",
      "Data columns (total 23 columns):\n",
      " #   Column         Non-Null Count  Dtype  \n",
      "---  ------         --------------  -----  \n",
      " 0   id             21597 non-null  int64  \n",
      " 1   bedrooms       21597 non-null  float64\n",
      " 2   bathrooms      21597 non-null  float64\n",
      " 3   sqft_living    21597 non-null  float64\n",
      " 4   sqft_lot       21597 non-null  float64\n",
      " 5   floors         21597 non-null  float64\n",
      " 6   waterfront     19206 non-null  float64\n",
      " 7   view           21534 non-null  float64\n",
      " 8   condition      21597 non-null  int64  \n",
      " 9   grade          21597 non-null  int64  \n",
      " 10  sqft_above     21597 non-null  float64\n",
      " 11  sqft_basement  21145 non-null  float64\n",
      " 12  yr_built       21597 non-null  int64  \n",
      " 13  yr_renovated   17749 non-null  float64\n",
      " 14  zipcode        21597 non-null  int64  \n",
      " 15  lat            21597 non-null  float64\n",
      " 16  long           21597 non-null  float64\n",
      " 17  sqft_living15  21597 non-null  float64\n",
      " 18  sqft_lot15     21597 non-null  float64\n",
      " 19  date           21597 non-null  object \n",
      " 20  price          21597 non-null  float64\n",
      " 21  house_id       21597 non-null  int64  \n",
      " 22  id.1           21597 non-null  int64  \n",
      "dtypes: float64(15), int64(7), object(1)\n",
      "memory usage: 3.8+ MB\n"
     ]
    }
   ],
   "source": [
    "df = pd.read_csv(\"data/eda.csv\")\n",
    "df.info()"
   ]
  },
  {
   "attachments": {},
   "cell_type": "markdown",
   "metadata": {},
   "source": [
    "### Clean data"
   ]
  },
  {
   "cell_type": "code",
   "execution_count": 287,
   "metadata": {},
   "outputs": [],
   "source": [
    "df.drop(columns=[\"house_id\", \"id.1\"], inplace=True)"
   ]
  },
  {
   "attachments": {},
   "cell_type": "markdown",
   "metadata": {},
   "source": [
    "rename columns"
   ]
  },
  {
   "cell_type": "code",
   "execution_count": 288,
   "metadata": {},
   "outputs": [
    {
     "data": {
      "text/plain": [
       "Index(['id', 'bedrooms', 'bathrooms', 'sqft_living', 'sqft_lot', 'floors',\n",
       "       'waterfront', 'view', 'condition', 'grade', 'sqft_above',\n",
       "       'sqft_basement', 'year_built', 'year_renovated', 'zipcode', 'lat',\n",
       "       'lon', 'sqft_living15', 'sqft_lot15', 'sales_date', 'price'],\n",
       "      dtype='object')"
      ]
     },
     "execution_count": 288,
     "metadata": {},
     "output_type": "execute_result"
    }
   ],
   "source": [
    "df.rename(\n",
    "    columns={\n",
    "        \"yr_built\": \"year_built\",\n",
    "        \"yr_renovated\": \"year_renovated\",\n",
    "        \"long\": \"lon\",\n",
    "        \"date\": \"sales_date\",\n",
    "    },\n",
    "    inplace=True,\n",
    ")\n",
    "df.columns"
   ]
  },
  {
   "cell_type": "code",
   "execution_count": 289,
   "metadata": {},
   "outputs": [
    {
     "data": {
      "text/html": [
       "<div>\n",
       "<style scoped>\n",
       "    .dataframe tbody tr th:only-of-type {\n",
       "        vertical-align: middle;\n",
       "    }\n",
       "\n",
       "    .dataframe tbody tr th {\n",
       "        vertical-align: top;\n",
       "    }\n",
       "\n",
       "    .dataframe thead th {\n",
       "        text-align: right;\n",
       "    }\n",
       "</style>\n",
       "<table border=\"1\" class=\"dataframe\">\n",
       "  <thead>\n",
       "    <tr style=\"text-align: right;\">\n",
       "      <th></th>\n",
       "      <th>id</th>\n",
       "      <th>bedrooms</th>\n",
       "      <th>bathrooms</th>\n",
       "      <th>sqft_living</th>\n",
       "      <th>sqft_lot</th>\n",
       "      <th>floors</th>\n",
       "      <th>waterfront</th>\n",
       "      <th>view</th>\n",
       "      <th>condition</th>\n",
       "      <th>grade</th>\n",
       "      <th>...</th>\n",
       "      <th>sqft_basement</th>\n",
       "      <th>year_built</th>\n",
       "      <th>year_renovated</th>\n",
       "      <th>zipcode</th>\n",
       "      <th>lat</th>\n",
       "      <th>lon</th>\n",
       "      <th>sqft_living15</th>\n",
       "      <th>sqft_lot15</th>\n",
       "      <th>sales_date</th>\n",
       "      <th>price</th>\n",
       "    </tr>\n",
       "  </thead>\n",
       "  <tbody>\n",
       "    <tr>\n",
       "      <th>0</th>\n",
       "      <td>7129300520</td>\n",
       "      <td>3.000</td>\n",
       "      <td>1.000</td>\n",
       "      <td>1180.000</td>\n",
       "      <td>5650.000</td>\n",
       "      <td>1.000</td>\n",
       "      <td>NaN</td>\n",
       "      <td>0.000</td>\n",
       "      <td>3</td>\n",
       "      <td>7</td>\n",
       "      <td>...</td>\n",
       "      <td>0.000</td>\n",
       "      <td>1955</td>\n",
       "      <td>0.000</td>\n",
       "      <td>98178</td>\n",
       "      <td>47.511</td>\n",
       "      <td>-122.257</td>\n",
       "      <td>1340.000</td>\n",
       "      <td>5650.000</td>\n",
       "      <td>2014-10-13</td>\n",
       "      <td>221900.000</td>\n",
       "    </tr>\n",
       "    <tr>\n",
       "      <th>1</th>\n",
       "      <td>6414100192</td>\n",
       "      <td>3.000</td>\n",
       "      <td>2.250</td>\n",
       "      <td>2570.000</td>\n",
       "      <td>7242.000</td>\n",
       "      <td>2.000</td>\n",
       "      <td>0.000</td>\n",
       "      <td>0.000</td>\n",
       "      <td>3</td>\n",
       "      <td>7</td>\n",
       "      <td>...</td>\n",
       "      <td>400.000</td>\n",
       "      <td>1951</td>\n",
       "      <td>19910.000</td>\n",
       "      <td>98125</td>\n",
       "      <td>47.721</td>\n",
       "      <td>-122.319</td>\n",
       "      <td>1690.000</td>\n",
       "      <td>7639.000</td>\n",
       "      <td>2014-12-09</td>\n",
       "      <td>538000.000</td>\n",
       "    </tr>\n",
       "    <tr>\n",
       "      <th>2</th>\n",
       "      <td>5631500400</td>\n",
       "      <td>2.000</td>\n",
       "      <td>1.000</td>\n",
       "      <td>770.000</td>\n",
       "      <td>10000.000</td>\n",
       "      <td>1.000</td>\n",
       "      <td>0.000</td>\n",
       "      <td>0.000</td>\n",
       "      <td>3</td>\n",
       "      <td>6</td>\n",
       "      <td>...</td>\n",
       "      <td>0.000</td>\n",
       "      <td>1933</td>\n",
       "      <td>NaN</td>\n",
       "      <td>98028</td>\n",
       "      <td>47.738</td>\n",
       "      <td>-122.233</td>\n",
       "      <td>2720.000</td>\n",
       "      <td>8062.000</td>\n",
       "      <td>2015-02-25</td>\n",
       "      <td>180000.000</td>\n",
       "    </tr>\n",
       "    <tr>\n",
       "      <th>3</th>\n",
       "      <td>2487200875</td>\n",
       "      <td>4.000</td>\n",
       "      <td>3.000</td>\n",
       "      <td>1960.000</td>\n",
       "      <td>5000.000</td>\n",
       "      <td>1.000</td>\n",
       "      <td>0.000</td>\n",
       "      <td>0.000</td>\n",
       "      <td>5</td>\n",
       "      <td>7</td>\n",
       "      <td>...</td>\n",
       "      <td>910.000</td>\n",
       "      <td>1965</td>\n",
       "      <td>0.000</td>\n",
       "      <td>98136</td>\n",
       "      <td>47.521</td>\n",
       "      <td>-122.393</td>\n",
       "      <td>1360.000</td>\n",
       "      <td>5000.000</td>\n",
       "      <td>2014-12-09</td>\n",
       "      <td>604000.000</td>\n",
       "    </tr>\n",
       "    <tr>\n",
       "      <th>4</th>\n",
       "      <td>1954400510</td>\n",
       "      <td>3.000</td>\n",
       "      <td>2.000</td>\n",
       "      <td>1680.000</td>\n",
       "      <td>8080.000</td>\n",
       "      <td>1.000</td>\n",
       "      <td>0.000</td>\n",
       "      <td>0.000</td>\n",
       "      <td>3</td>\n",
       "      <td>8</td>\n",
       "      <td>...</td>\n",
       "      <td>0.000</td>\n",
       "      <td>1987</td>\n",
       "      <td>0.000</td>\n",
       "      <td>98074</td>\n",
       "      <td>47.617</td>\n",
       "      <td>-122.045</td>\n",
       "      <td>1800.000</td>\n",
       "      <td>7503.000</td>\n",
       "      <td>2015-02-18</td>\n",
       "      <td>510000.000</td>\n",
       "    </tr>\n",
       "  </tbody>\n",
       "</table>\n",
       "<p>5 rows × 21 columns</p>\n",
       "</div>"
      ],
      "text/plain": [
       "           id  bedrooms  bathrooms  sqft_living  sqft_lot  floors  waterfront  \\\n",
       "0  7129300520     3.000      1.000     1180.000  5650.000   1.000         NaN   \n",
       "1  6414100192     3.000      2.250     2570.000  7242.000   2.000       0.000   \n",
       "2  5631500400     2.000      1.000      770.000 10000.000   1.000       0.000   \n",
       "3  2487200875     4.000      3.000     1960.000  5000.000   1.000       0.000   \n",
       "4  1954400510     3.000      2.000     1680.000  8080.000   1.000       0.000   \n",
       "\n",
       "   view  condition  grade  ...  sqft_basement  year_built  year_renovated  \\\n",
       "0 0.000          3      7  ...          0.000        1955           0.000   \n",
       "1 0.000          3      7  ...        400.000        1951       19910.000   \n",
       "2 0.000          3      6  ...          0.000        1933             NaN   \n",
       "3 0.000          5      7  ...        910.000        1965           0.000   \n",
       "4 0.000          3      8  ...          0.000        1987           0.000   \n",
       "\n",
       "   zipcode    lat      lon  sqft_living15  sqft_lot15  sales_date      price  \n",
       "0    98178 47.511 -122.257       1340.000    5650.000  2014-10-13 221900.000  \n",
       "1    98125 47.721 -122.319       1690.000    7639.000  2014-12-09 538000.000  \n",
       "2    98028 47.738 -122.233       2720.000    8062.000  2015-02-25 180000.000  \n",
       "3    98136 47.521 -122.393       1360.000    5000.000  2014-12-09 604000.000  \n",
       "4    98074 47.617 -122.045       1800.000    7503.000  2015-02-18 510000.000  \n",
       "\n",
       "[5 rows x 21 columns]"
      ]
     },
     "execution_count": 289,
     "metadata": {},
     "output_type": "execute_result"
    }
   ],
   "source": [
    "df.head()"
   ]
  },
  {
   "attachments": {},
   "cell_type": "markdown",
   "metadata": {},
   "source": [
    "check for duplicated rows"
   ]
  },
  {
   "cell_type": "code",
   "execution_count": 290,
   "metadata": {},
   "outputs": [
    {
     "data": {
      "text/plain": [
       "False    21597\n",
       "dtype: int64"
      ]
     },
     "execution_count": 290,
     "metadata": {},
     "output_type": "execute_result"
    }
   ],
   "source": [
    "df.duplicated().value_counts()"
   ]
  },
  {
   "cell_type": "code",
   "execution_count": 291,
   "metadata": {},
   "outputs": [
    {
     "data": {
      "text/plain": [
       "id                  int64\n",
       "bedrooms          float64\n",
       "bathrooms         float64\n",
       "sqft_living       float64\n",
       "sqft_lot          float64\n",
       "floors            float64\n",
       "waterfront        float64\n",
       "view              float64\n",
       "condition           int64\n",
       "grade               int64\n",
       "sqft_above        float64\n",
       "sqft_basement     float64\n",
       "year_built          int64\n",
       "year_renovated    float64\n",
       "zipcode             int64\n",
       "lat               float64\n",
       "lon               float64\n",
       "sqft_living15     float64\n",
       "sqft_lot15        float64\n",
       "sales_date         object\n",
       "price             float64\n",
       "dtype: object"
      ]
     },
     "execution_count": 291,
     "metadata": {},
     "output_type": "execute_result"
    }
   ],
   "source": [
    "df.dtypes"
   ]
  },
  {
   "attachments": {},
   "cell_type": "markdown",
   "metadata": {},
   "source": [
    "bring year_renovated to correct year by dividing by 10"
   ]
  },
  {
   "cell_type": "code",
   "execution_count": 292,
   "metadata": {},
   "outputs": [],
   "source": [
    "df.year_renovated = df.year_renovated / 10"
   ]
  },
  {
   "attachments": {},
   "cell_type": "markdown",
   "metadata": {},
   "source": [
    "fill all NAN with -1 in the first place"
   ]
  },
  {
   "cell_type": "code",
   "execution_count": 293,
   "metadata": {},
   "outputs": [],
   "source": [
    "df.year_renovated.fillna(-1, inplace=True)\n",
    "df.waterfront.fillna(0, inplace=True)\n",
    "df.sqft_basement.fillna(-1, inplace=True)\n",
    "df.view.fillna(-1, inplace=True)"
   ]
  },
  {
   "cell_type": "code",
   "execution_count": 294,
   "metadata": {},
   "outputs": [
    {
     "data": {
      "text/html": [
       "<div>\n",
       "<style scoped>\n",
       "    .dataframe tbody tr th:only-of-type {\n",
       "        vertical-align: middle;\n",
       "    }\n",
       "\n",
       "    .dataframe tbody tr th {\n",
       "        vertical-align: top;\n",
       "    }\n",
       "\n",
       "    .dataframe thead th {\n",
       "        text-align: right;\n",
       "    }\n",
       "</style>\n",
       "<table border=\"1\" class=\"dataframe\">\n",
       "  <thead>\n",
       "    <tr style=\"text-align: right;\">\n",
       "      <th></th>\n",
       "      <th>id</th>\n",
       "      <th>bedrooms</th>\n",
       "      <th>bathrooms</th>\n",
       "      <th>sqft_living</th>\n",
       "      <th>sqft_lot</th>\n",
       "      <th>floors</th>\n",
       "      <th>waterfront</th>\n",
       "      <th>view</th>\n",
       "      <th>condition</th>\n",
       "      <th>grade</th>\n",
       "      <th>...</th>\n",
       "      <th>sqft_basement</th>\n",
       "      <th>year_built</th>\n",
       "      <th>year_renovated</th>\n",
       "      <th>zipcode</th>\n",
       "      <th>lat</th>\n",
       "      <th>lon</th>\n",
       "      <th>sqft_living15</th>\n",
       "      <th>sqft_lot15</th>\n",
       "      <th>sales_date</th>\n",
       "      <th>price</th>\n",
       "    </tr>\n",
       "  </thead>\n",
       "  <tbody>\n",
       "    <tr>\n",
       "      <th>0</th>\n",
       "      <td>7129300520</td>\n",
       "      <td>3</td>\n",
       "      <td>1.000</td>\n",
       "      <td>1180.000</td>\n",
       "      <td>5650.000</td>\n",
       "      <td>1.000</td>\n",
       "      <td>False</td>\n",
       "      <td>0</td>\n",
       "      <td>3</td>\n",
       "      <td>7</td>\n",
       "      <td>...</td>\n",
       "      <td>0.000</td>\n",
       "      <td>1955</td>\n",
       "      <td>0</td>\n",
       "      <td>98178</td>\n",
       "      <td>47.511</td>\n",
       "      <td>-122.257</td>\n",
       "      <td>1340.000</td>\n",
       "      <td>5650.000</td>\n",
       "      <td>2014-10-13</td>\n",
       "      <td>221900.000</td>\n",
       "    </tr>\n",
       "    <tr>\n",
       "      <th>1</th>\n",
       "      <td>6414100192</td>\n",
       "      <td>3</td>\n",
       "      <td>2.250</td>\n",
       "      <td>2570.000</td>\n",
       "      <td>7242.000</td>\n",
       "      <td>2.000</td>\n",
       "      <td>False</td>\n",
       "      <td>0</td>\n",
       "      <td>3</td>\n",
       "      <td>7</td>\n",
       "      <td>...</td>\n",
       "      <td>400.000</td>\n",
       "      <td>1951</td>\n",
       "      <td>1991</td>\n",
       "      <td>98125</td>\n",
       "      <td>47.721</td>\n",
       "      <td>-122.319</td>\n",
       "      <td>1690.000</td>\n",
       "      <td>7639.000</td>\n",
       "      <td>2014-12-09</td>\n",
       "      <td>538000.000</td>\n",
       "    </tr>\n",
       "    <tr>\n",
       "      <th>2</th>\n",
       "      <td>5631500400</td>\n",
       "      <td>2</td>\n",
       "      <td>1.000</td>\n",
       "      <td>770.000</td>\n",
       "      <td>10000.000</td>\n",
       "      <td>1.000</td>\n",
       "      <td>False</td>\n",
       "      <td>0</td>\n",
       "      <td>3</td>\n",
       "      <td>6</td>\n",
       "      <td>...</td>\n",
       "      <td>0.000</td>\n",
       "      <td>1933</td>\n",
       "      <td>-1</td>\n",
       "      <td>98028</td>\n",
       "      <td>47.738</td>\n",
       "      <td>-122.233</td>\n",
       "      <td>2720.000</td>\n",
       "      <td>8062.000</td>\n",
       "      <td>2015-02-25</td>\n",
       "      <td>180000.000</td>\n",
       "    </tr>\n",
       "    <tr>\n",
       "      <th>3</th>\n",
       "      <td>2487200875</td>\n",
       "      <td>4</td>\n",
       "      <td>3.000</td>\n",
       "      <td>1960.000</td>\n",
       "      <td>5000.000</td>\n",
       "      <td>1.000</td>\n",
       "      <td>False</td>\n",
       "      <td>0</td>\n",
       "      <td>5</td>\n",
       "      <td>7</td>\n",
       "      <td>...</td>\n",
       "      <td>910.000</td>\n",
       "      <td>1965</td>\n",
       "      <td>0</td>\n",
       "      <td>98136</td>\n",
       "      <td>47.521</td>\n",
       "      <td>-122.393</td>\n",
       "      <td>1360.000</td>\n",
       "      <td>5000.000</td>\n",
       "      <td>2014-12-09</td>\n",
       "      <td>604000.000</td>\n",
       "    </tr>\n",
       "    <tr>\n",
       "      <th>4</th>\n",
       "      <td>1954400510</td>\n",
       "      <td>3</td>\n",
       "      <td>2.000</td>\n",
       "      <td>1680.000</td>\n",
       "      <td>8080.000</td>\n",
       "      <td>1.000</td>\n",
       "      <td>False</td>\n",
       "      <td>0</td>\n",
       "      <td>3</td>\n",
       "      <td>8</td>\n",
       "      <td>...</td>\n",
       "      <td>0.000</td>\n",
       "      <td>1987</td>\n",
       "      <td>0</td>\n",
       "      <td>98074</td>\n",
       "      <td>47.617</td>\n",
       "      <td>-122.045</td>\n",
       "      <td>1800.000</td>\n",
       "      <td>7503.000</td>\n",
       "      <td>2015-02-18</td>\n",
       "      <td>510000.000</td>\n",
       "    </tr>\n",
       "  </tbody>\n",
       "</table>\n",
       "<p>5 rows × 21 columns</p>\n",
       "</div>"
      ],
      "text/plain": [
       "           id  bedrooms  bathrooms  sqft_living  sqft_lot  floors  waterfront  \\\n",
       "0  7129300520         3      1.000     1180.000  5650.000   1.000       False   \n",
       "1  6414100192         3      2.250     2570.000  7242.000   2.000       False   \n",
       "2  5631500400         2      1.000      770.000 10000.000   1.000       False   \n",
       "3  2487200875         4      3.000     1960.000  5000.000   1.000       False   \n",
       "4  1954400510         3      2.000     1680.000  8080.000   1.000       False   \n",
       "\n",
       "   view  condition  grade  ...  sqft_basement  year_built  year_renovated  \\\n",
       "0     0          3      7  ...          0.000        1955               0   \n",
       "1     0          3      7  ...        400.000        1951            1991   \n",
       "2     0          3      6  ...          0.000        1933              -1   \n",
       "3     0          5      7  ...        910.000        1965               0   \n",
       "4     0          3      8  ...          0.000        1987               0   \n",
       "\n",
       "   zipcode    lat      lon  sqft_living15  sqft_lot15  sales_date      price  \n",
       "0    98178 47.511 -122.257       1340.000    5650.000  2014-10-13 221900.000  \n",
       "1    98125 47.721 -122.319       1690.000    7639.000  2014-12-09 538000.000  \n",
       "2    98028 47.738 -122.233       2720.000    8062.000  2015-02-25 180000.000  \n",
       "3    98136 47.521 -122.393       1360.000    5000.000  2014-12-09 604000.000  \n",
       "4    98074 47.617 -122.045       1800.000    7503.000  2015-02-18 510000.000  \n",
       "\n",
       "[5 rows x 21 columns]"
      ]
     },
     "execution_count": 294,
     "metadata": {},
     "output_type": "execute_result"
    }
   ],
   "source": [
    "df = df.astype(\n",
    "    {\n",
    "        \"bedrooms\": np.int16,\n",
    "        \"view\": np.int16,\n",
    "        \"condition\": np.int16,\n",
    "        \"grade\": np.int16,\n",
    "        \"year_built\": np.int16,\n",
    "        \"year_renovated\": np.int16,\n",
    "        \"zipcode\": np.int32,\n",
    "        \"waterfront\": bool,\n",
    "    },\n",
    ")\n",
    "df.head()"
   ]
  },
  {
   "attachments": {},
   "cell_type": "markdown",
   "metadata": {},
   "source": [
    "add datetime to year_built, year_renovated, sales_date"
   ]
  },
  {
   "cell_type": "code",
   "execution_count": 324,
   "metadata": {},
   "outputs": [
    {
     "data": {
      "text/html": [
       "<div>\n",
       "<style scoped>\n",
       "    .dataframe tbody tr th:only-of-type {\n",
       "        vertical-align: middle;\n",
       "    }\n",
       "\n",
       "    .dataframe tbody tr th {\n",
       "        vertical-align: top;\n",
       "    }\n",
       "\n",
       "    .dataframe thead th {\n",
       "        text-align: right;\n",
       "    }\n",
       "</style>\n",
       "<table border=\"1\" class=\"dataframe\">\n",
       "  <thead>\n",
       "    <tr style=\"text-align: right;\">\n",
       "      <th></th>\n",
       "      <th>id</th>\n",
       "      <th>bedrooms</th>\n",
       "      <th>bathrooms</th>\n",
       "      <th>sqft_living</th>\n",
       "      <th>sqft_lot</th>\n",
       "      <th>floors</th>\n",
       "      <th>waterfront</th>\n",
       "      <th>view</th>\n",
       "      <th>condition</th>\n",
       "      <th>grade</th>\n",
       "      <th>...</th>\n",
       "      <th>sales_year</th>\n",
       "      <th>sales_month</th>\n",
       "      <th>sales_day</th>\n",
       "      <th>sales_day_of_week</th>\n",
       "      <th>price_per_sqft_living</th>\n",
       "      <th>price_per_sqft_lot</th>\n",
       "      <th>price_per_sqft_living15</th>\n",
       "      <th>price_per_sqft_lot15</th>\n",
       "      <th>price_per_sqft_mean</th>\n",
       "      <th>affordable</th>\n",
       "    </tr>\n",
       "  </thead>\n",
       "  <tbody>\n",
       "    <tr>\n",
       "      <th>0</th>\n",
       "      <td>7129300520</td>\n",
       "      <td>3</td>\n",
       "      <td>1.000</td>\n",
       "      <td>1180.000</td>\n",
       "      <td>5650.000</td>\n",
       "      <td>1.000</td>\n",
       "      <td>False</td>\n",
       "      <td>0</td>\n",
       "      <td>3</td>\n",
       "      <td>7</td>\n",
       "      <td>...</td>\n",
       "      <td>2014</td>\n",
       "      <td>10</td>\n",
       "      <td>13</td>\n",
       "      <td>0</td>\n",
       "      <td>188.051</td>\n",
       "      <td>39.274</td>\n",
       "      <td>165.597</td>\n",
       "      <td>39.274</td>\n",
       "      <td>2053.695</td>\n",
       "      <td>True</td>\n",
       "    </tr>\n",
       "    <tr>\n",
       "      <th>1</th>\n",
       "      <td>6414100192</td>\n",
       "      <td>3</td>\n",
       "      <td>2.250</td>\n",
       "      <td>2570.000</td>\n",
       "      <td>7242.000</td>\n",
       "      <td>2.000</td>\n",
       "      <td>False</td>\n",
       "      <td>0</td>\n",
       "      <td>3</td>\n",
       "      <td>7</td>\n",
       "      <td>...</td>\n",
       "      <td>2014</td>\n",
       "      <td>12</td>\n",
       "      <td>9</td>\n",
       "      <td>1</td>\n",
       "      <td>209.339</td>\n",
       "      <td>74.289</td>\n",
       "      <td>318.343</td>\n",
       "      <td>70.428</td>\n",
       "      <td>3200.482</td>\n",
       "      <td>True</td>\n",
       "    </tr>\n",
       "    <tr>\n",
       "      <th>2</th>\n",
       "      <td>5631500400</td>\n",
       "      <td>2</td>\n",
       "      <td>1.000</td>\n",
       "      <td>770.000</td>\n",
       "      <td>10000.000</td>\n",
       "      <td>1.000</td>\n",
       "      <td>False</td>\n",
       "      <td>0</td>\n",
       "      <td>3</td>\n",
       "      <td>6</td>\n",
       "      <td>...</td>\n",
       "      <td>2015</td>\n",
       "      <td>2</td>\n",
       "      <td>25</td>\n",
       "      <td>2</td>\n",
       "      <td>233.766</td>\n",
       "      <td>18.000</td>\n",
       "      <td>66.176</td>\n",
       "      <td>22.327</td>\n",
       "      <td>2115.969</td>\n",
       "      <td>True</td>\n",
       "    </tr>\n",
       "    <tr>\n",
       "      <th>3</th>\n",
       "      <td>2487200875</td>\n",
       "      <td>4</td>\n",
       "      <td>3.000</td>\n",
       "      <td>1960.000</td>\n",
       "      <td>5000.000</td>\n",
       "      <td>1.000</td>\n",
       "      <td>False</td>\n",
       "      <td>0</td>\n",
       "      <td>5</td>\n",
       "      <td>7</td>\n",
       "      <td>...</td>\n",
       "      <td>2014</td>\n",
       "      <td>12</td>\n",
       "      <td>9</td>\n",
       "      <td>1</td>\n",
       "      <td>308.163</td>\n",
       "      <td>120.800</td>\n",
       "      <td>444.118</td>\n",
       "      <td>120.800</td>\n",
       "      <td>2430.875</td>\n",
       "      <td>True</td>\n",
       "    </tr>\n",
       "    <tr>\n",
       "      <th>4</th>\n",
       "      <td>1954400510</td>\n",
       "      <td>3</td>\n",
       "      <td>2.000</td>\n",
       "      <td>1680.000</td>\n",
       "      <td>8080.000</td>\n",
       "      <td>1.000</td>\n",
       "      <td>False</td>\n",
       "      <td>0</td>\n",
       "      <td>3</td>\n",
       "      <td>8</td>\n",
       "      <td>...</td>\n",
       "      <td>2015</td>\n",
       "      <td>2</td>\n",
       "      <td>18</td>\n",
       "      <td>2</td>\n",
       "      <td>303.571</td>\n",
       "      <td>63.119</td>\n",
       "      <td>283.333</td>\n",
       "      <td>67.973</td>\n",
       "      <td>2841.240</td>\n",
       "      <td>True</td>\n",
       "    </tr>\n",
       "  </tbody>\n",
       "</table>\n",
       "<p>5 rows × 31 columns</p>\n",
       "</div>"
      ],
      "text/plain": [
       "           id  bedrooms  bathrooms  sqft_living  sqft_lot  floors  waterfront  \\\n",
       "0  7129300520         3      1.000     1180.000  5650.000   1.000       False   \n",
       "1  6414100192         3      2.250     2570.000  7242.000   2.000       False   \n",
       "2  5631500400         2      1.000      770.000 10000.000   1.000       False   \n",
       "3  2487200875         4      3.000     1960.000  5000.000   1.000       False   \n",
       "4  1954400510         3      2.000     1680.000  8080.000   1.000       False   \n",
       "\n",
       "   view  condition  grade  ...  sales_year  sales_month  sales_day  \\\n",
       "0     0          3      7  ...        2014           10         13   \n",
       "1     0          3      7  ...        2014           12          9   \n",
       "2     0          3      6  ...        2015            2         25   \n",
       "3     0          5      7  ...        2014           12          9   \n",
       "4     0          3      8  ...        2015            2         18   \n",
       "\n",
       "   sales_day_of_week  price_per_sqft_living  price_per_sqft_lot  \\\n",
       "0                  0                188.051              39.274   \n",
       "1                  1                209.339              74.289   \n",
       "2                  2                233.766              18.000   \n",
       "3                  1                308.163             120.800   \n",
       "4                  2                303.571              63.119   \n",
       "\n",
       "   price_per_sqft_living15  price_per_sqft_lot15  price_per_sqft_mean  \\\n",
       "0                  165.597                39.274             2053.695   \n",
       "1                  318.343                70.428             3200.482   \n",
       "2                   66.176                22.327             2115.969   \n",
       "3                  444.118               120.800             2430.875   \n",
       "4                  283.333                67.973             2841.240   \n",
       "\n",
       "  affordable  \n",
       "0       True  \n",
       "1       True  \n",
       "2       True  \n",
       "3       True  \n",
       "4       True  \n",
       "\n",
       "[5 rows x 31 columns]"
      ]
     },
     "execution_count": 324,
     "metadata": {},
     "output_type": "execute_result"
    }
   ],
   "source": [
    "df.sales_date = pd.to_datetime(df.sales_date, format=\"%Y-%m-%d\")\n",
    "df[\"sales_year\"] = df.sales_date.dt.year\n",
    "df[\"sales_month\"] = df.sales_date.dt.month\n",
    "df[\"sales_day\"] = df.sales_date.dt.day\n",
    "df[\"sales_day_of_week\"] = df.sales_date.dt.dayofweek\n",
    "df.head()"
   ]
  },
  {
   "attachments": {},
   "cell_type": "markdown",
   "metadata": {},
   "source": [
    "insert a few new columns"
   ]
  },
  {
   "cell_type": "code",
   "execution_count": 296,
   "metadata": {},
   "outputs": [],
   "source": [
    "df[\"price_per_sqft_living\"] = df.price / df.sqft_living\n",
    "df[\"price_per_sqft_lot\"] = df.price / df.sqft_lot\n",
    "df[\"price_per_sqft_living15\"] = df.price / df.sqft_living15\n",
    "df[\"price_per_sqft_lot15\"] = df.price / df.sqft_lot15\n",
    "df[\"price_per_sqft_mean\"] = df.price / df[\n",
    "    [\n",
    "        \"price_per_sqft_living\",\n",
    "        \"price_per_sqft_lot\",\n",
    "        \"price_per_sqft_living15\",\n",
    "        \"price_per_sqft_lot15\",\n",
    "    ]\n",
    "].mean(axis=1)"
   ]
  },
  {
   "cell_type": "code",
   "execution_count": 297,
   "metadata": {},
   "outputs": [
    {
     "data": {
      "text/plain": [
       "Text(0.5, 1.0, 'Distribution of price per lot qsft in neighbourhood count')"
      ]
     },
     "execution_count": 297,
     "metadata": {},
     "output_type": "execute_result"
    },
    {
     "data": {
      "image/png": "[encoded data removed]",
      "text/plain": [
       "<Figure size 2000x1000 with 4 Axes>"
      ]
     },
     "metadata": {},
     "output_type": "display_data"
    }
   ],
   "source": [
    "fig, ax = plt.subplots(\n",
    "    2, 2, figsize=(20, 10)\n",
    ")  # create subplots on 2 rows and 3 columns\n",
    "plt.suptitle(\"Distribution of numeric columns\", fontsize=20)\n",
    "fig.tight_layout()  # tight_layout automatically adjusts subplot params so that the subplot(s) fits in to the figure area\n",
    "plt.subplots_adjust(\n",
    "    hspace=0.5, wspace=0.2, top=0.9\n",
    ")  # adjusts the space between the single subplots\n",
    "\n",
    "ax[0][0].boxplot(x=df[\"price_per_sqft_living\"])  # creates boxplot for number of views\n",
    "ax[0][0].set_xticklabels(\n",
    "    labels=[\"Price / sqft_living\"]\n",
    ")  # sets the label for the ticks on the x-axis\n",
    "ax[0][0].set_ylim(0, 1000)  # limits the y-axis values from 0 to 2000000\n",
    "ax[0][0].set_title(\"Distribution of price per living qsft count\", fontsize=15)\n",
    "# sets title for subplot\n",
    "\n",
    "ax[0][1].boxplot(x=df[\"price_per_sqft_lot\"])\n",
    "ax[0][1].set_xticklabels(labels=[\"Likes\"])\n",
    "ax[0][1].set_ylim(0, 1000)\n",
    "ax[0][1].set_title(\"Distribution of price per lot qsft count\", fontsize=15)\n",
    "\n",
    "ax[1][0].boxplot(x=df[\"price_per_sqft_living15\"])\n",
    "ax[1][0].set_xticklabels(labels=[\"Dislikes\"])\n",
    "ax[1][0].set_ylim(0, 1000)\n",
    "ax[1][0].set_title(\n",
    "    \"Distribution of price per living qsft in neighbourhood count\", fontsize=15\n",
    ")\n",
    "\n",
    "ax[1][1].boxplot(x=df[\"price_per_sqft_lot15\"])\n",
    "ax[1][1].set_xticklabels(labels=[\"Comment count\"])\n",
    "ax[1][1].set_ylim(0, 1000)\n",
    "ax[1][1].set_title(\n",
    "    \"Distribution of price per lot qsft in neighbourhood count\", fontsize=15\n",
    ")"
   ]
  },
  {
   "cell_type": "code",
   "execution_count": 298,
   "metadata": {},
   "outputs": [
    {
     "data": {
      "text/plain": [
       "Text(0.5, 1.0, 'Distribution of price per lot qsft in neighbourhood count')"
      ]
     },
     "execution_count": 298,
     "metadata": {},
     "output_type": "execute_result"
    },
    {
     "data": {
      "image/png": "[encoded data removed]",
      "text/plain": [
       "<Figure size 2000x1000 with 4 Axes>"
      ]
     },
     "metadata": {},
     "output_type": "display_data"
    }
   ],
   "source": [
    "fig, ax = plt.subplots(\n",
    "    2, 2, figsize=(20, 10)\n",
    ")  # create subplots on 2 rows and 3 columns\n",
    "plt.suptitle(\"Distribution of numeric columns\", fontsize=20)\n",
    "fig.tight_layout()  # tight_layout automatically adjusts subplot params so that the subplot(s) fits in to the figure area\n",
    "plt.subplots_adjust(\n",
    "    hspace=0.5, wspace=0.2, top=0.9\n",
    ")  # adjusts the space between the single subplots\n",
    "\n",
    "ax[0][0].hist(x=df[\"price_per_sqft_living\"])  # creates boxplot for number of views\n",
    "# ax[0][0].set_xticklabels(labels=[\"Price / sqft_living\"]) # sets the label for the ticks on the x-axis\n",
    "ax[0][0].set_title(\"Distribution of price per living qsft count\", fontsize=15)\n",
    "# sets title for subplot\n",
    "\n",
    "ax[0][1].hist(x=df[\"price_per_sqft_lot\"])\n",
    "##ax[0][1].set_xticklabels(labels=[\"Likes\"])\n",
    "ax[0][1].set_title(\"Distribution of price per lot qsft count\", fontsize=15)\n",
    "\n",
    "ax[1][0].hist(x=df[\"price_per_sqft_living15\"])\n",
    "# ax[1][0].set_xticklabels(labels=[\"Dislikes\"])\n",
    "ax[1][0].set_title(\n",
    "    \"Distribution of price per living qsft in neighbourhood count\", fontsize=15\n",
    ")\n",
    "\n",
    "ax[1][1].hist(x=df[\"price_per_sqft_lot15\"])\n",
    "# ax[1][1].set_xticklabels(labels=[\"Comment count\"])\n",
    "ax[1][1].set_title(\n",
    "    \"Distribution of price per lot qsft in neighbourhood count\", fontsize=15\n",
    ")"
   ]
  },
  {
   "cell_type": "code",
   "execution_count": 299,
   "metadata": {},
   "outputs": [
    {
     "data": {
      "image/png": "[encoded data removed]",
      "text/plain": [
       "<Figure size 800x500 with 1 Axes>"
      ]
     },
     "metadata": {},
     "output_type": "display_data"
    }
   ],
   "source": [
    "fig = sns.histplot(data=df, x=\"price\")"
   ]
  },
  {
   "attachments": {},
   "cell_type": "markdown",
   "metadata": {},
   "source": [
    "my customer has no money: so I make a simple differentiation between high and low prices to look for:"
   ]
  },
  {
   "cell_type": "code",
   "execution_count": 300,
   "metadata": {},
   "outputs": [
    {
     "data": {
      "image/png": "[encoded data removed]",
      "text/plain": [
       "<Figure size 800x500 with 1 Axes>"
      ]
     },
     "metadata": {},
     "output_type": "display_data"
    }
   ],
   "source": [
    "df[\"affordable\"] = df.price.apply(lambda x: True if x < 1000000 else False)\n",
    "df_customer = df.query(\"affordable == True\")\n",
    "fig = sns.histplot(data=df, x=df.query(\"affordable == True\")[\"price\"])"
   ]
  },
  {
   "cell_type": "code",
   "execution_count": 301,
   "metadata": {},
   "outputs": [
    {
     "name": "stdout",
     "output_type": "stream",
     "text": [
      "<class 'pandas.core.frame.DataFrame'>\n",
      "RangeIndex: 21597 entries, 0 to 21596\n",
      "Data columns (total 31 columns):\n",
      " #   Column                   Non-Null Count  Dtype         \n",
      "---  ------                   --------------  -----         \n",
      " 0   id                       21597 non-null  int64         \n",
      " 1   bedrooms                 21597 non-null  int16         \n",
      " 2   bathrooms                21597 non-null  float64       \n",
      " 3   sqft_living              21597 non-null  float64       \n",
      " 4   sqft_lot                 21597 non-null  float64       \n",
      " 5   floors                   21597 non-null  float64       \n",
      " 6   waterfront               21597 non-null  bool          \n",
      " 7   view                     21597 non-null  int16         \n",
      " 8   condition                21597 non-null  int16         \n",
      " 9   grade                    21597 non-null  int16         \n",
      " 10  sqft_above               21597 non-null  float64       \n",
      " 11  sqft_basement            21597 non-null  float64       \n",
      " 12  year_built               21597 non-null  int16         \n",
      " 13  year_renovated           21597 non-null  int16         \n",
      " 14  zipcode                  21597 non-null  int32         \n",
      " 15  lat                      21597 non-null  float64       \n",
      " 16  lon                      21597 non-null  float64       \n",
      " 17  sqft_living15            21597 non-null  float64       \n",
      " 18  sqft_lot15               21597 non-null  float64       \n",
      " 19  sales_date               21597 non-null  datetime64[ns]\n",
      " 20  price                    21597 non-null  float64       \n",
      " 21  sales_year               21597 non-null  int64         \n",
      " 22  sales_month              21597 non-null  int64         \n",
      " 23  sales_day                21597 non-null  int64         \n",
      " 24  sales_day_of_week        21597 non-null  int64         \n",
      " 25  price_per_sqft_living    21597 non-null  float64       \n",
      " 26  price_per_sqft_lot       21597 non-null  float64       \n",
      " 27  price_per_sqft_living15  21597 non-null  float64       \n",
      " 28  price_per_sqft_lot15     21597 non-null  float64       \n",
      " 29  price_per_sqft_mean      21597 non-null  float64       \n",
      " 30  affordable               21597 non-null  bool          \n",
      "dtypes: bool(2), datetime64[ns](1), float64(16), int16(6), int32(1), int64(5)\n",
      "memory usage: 4.0 MB\n"
     ]
    }
   ],
   "source": [
    "df.info()"
   ]
  },
  {
   "cell_type": "code",
   "execution_count": 302,
   "metadata": {},
   "outputs": [
    {
     "data": {
      "text/html": [
       "<div>\n",
       "<style scoped>\n",
       "    .dataframe tbody tr th:only-of-type {\n",
       "        vertical-align: middle;\n",
       "    }\n",
       "\n",
       "    .dataframe tbody tr th {\n",
       "        vertical-align: top;\n",
       "    }\n",
       "\n",
       "    .dataframe thead th {\n",
       "        text-align: right;\n",
       "    }\n",
       "</style>\n",
       "<table border=\"1\" class=\"dataframe\">\n",
       "  <thead>\n",
       "    <tr style=\"text-align: right;\">\n",
       "      <th></th>\n",
       "      <th>id</th>\n",
       "      <th>bedrooms</th>\n",
       "      <th>bathrooms</th>\n",
       "      <th>sqft_living</th>\n",
       "      <th>sqft_lot</th>\n",
       "      <th>floors</th>\n",
       "      <th>waterfront</th>\n",
       "      <th>view</th>\n",
       "      <th>condition</th>\n",
       "      <th>grade</th>\n",
       "      <th>...</th>\n",
       "      <th>sales_year</th>\n",
       "      <th>sales_month</th>\n",
       "      <th>sales_day</th>\n",
       "      <th>sales_day_of_week</th>\n",
       "      <th>price_per_sqft_living</th>\n",
       "      <th>price_per_sqft_lot</th>\n",
       "      <th>price_per_sqft_living15</th>\n",
       "      <th>price_per_sqft_lot15</th>\n",
       "      <th>price_per_sqft_mean</th>\n",
       "      <th>affordable</th>\n",
       "    </tr>\n",
       "  </thead>\n",
       "  <tbody>\n",
       "    <tr>\n",
       "      <th>0</th>\n",
       "      <td>7129300520</td>\n",
       "      <td>3</td>\n",
       "      <td>1.000</td>\n",
       "      <td>1180.000</td>\n",
       "      <td>5650.000</td>\n",
       "      <td>1.000</td>\n",
       "      <td>False</td>\n",
       "      <td>0</td>\n",
       "      <td>3</td>\n",
       "      <td>7</td>\n",
       "      <td>...</td>\n",
       "      <td>2014</td>\n",
       "      <td>10</td>\n",
       "      <td>13</td>\n",
       "      <td>0</td>\n",
       "      <td>188.051</td>\n",
       "      <td>39.274</td>\n",
       "      <td>165.597</td>\n",
       "      <td>39.274</td>\n",
       "      <td>2053.695</td>\n",
       "      <td>True</td>\n",
       "    </tr>\n",
       "    <tr>\n",
       "      <th>1</th>\n",
       "      <td>6414100192</td>\n",
       "      <td>3</td>\n",
       "      <td>2.250</td>\n",
       "      <td>2570.000</td>\n",
       "      <td>7242.000</td>\n",
       "      <td>2.000</td>\n",
       "      <td>False</td>\n",
       "      <td>0</td>\n",
       "      <td>3</td>\n",
       "      <td>7</td>\n",
       "      <td>...</td>\n",
       "      <td>2014</td>\n",
       "      <td>12</td>\n",
       "      <td>9</td>\n",
       "      <td>1</td>\n",
       "      <td>209.339</td>\n",
       "      <td>74.289</td>\n",
       "      <td>318.343</td>\n",
       "      <td>70.428</td>\n",
       "      <td>3200.482</td>\n",
       "      <td>True</td>\n",
       "    </tr>\n",
       "    <tr>\n",
       "      <th>2</th>\n",
       "      <td>5631500400</td>\n",
       "      <td>2</td>\n",
       "      <td>1.000</td>\n",
       "      <td>770.000</td>\n",
       "      <td>10000.000</td>\n",
       "      <td>1.000</td>\n",
       "      <td>False</td>\n",
       "      <td>0</td>\n",
       "      <td>3</td>\n",
       "      <td>6</td>\n",
       "      <td>...</td>\n",
       "      <td>2015</td>\n",
       "      <td>2</td>\n",
       "      <td>25</td>\n",
       "      <td>2</td>\n",
       "      <td>233.766</td>\n",
       "      <td>18.000</td>\n",
       "      <td>66.176</td>\n",
       "      <td>22.327</td>\n",
       "      <td>2115.969</td>\n",
       "      <td>True</td>\n",
       "    </tr>\n",
       "    <tr>\n",
       "      <th>3</th>\n",
       "      <td>2487200875</td>\n",
       "      <td>4</td>\n",
       "      <td>3.000</td>\n",
       "      <td>1960.000</td>\n",
       "      <td>5000.000</td>\n",
       "      <td>1.000</td>\n",
       "      <td>False</td>\n",
       "      <td>0</td>\n",
       "      <td>5</td>\n",
       "      <td>7</td>\n",
       "      <td>...</td>\n",
       "      <td>2014</td>\n",
       "      <td>12</td>\n",
       "      <td>9</td>\n",
       "      <td>1</td>\n",
       "      <td>308.163</td>\n",
       "      <td>120.800</td>\n",
       "      <td>444.118</td>\n",
       "      <td>120.800</td>\n",
       "      <td>2430.875</td>\n",
       "      <td>True</td>\n",
       "    </tr>\n",
       "    <tr>\n",
       "      <th>4</th>\n",
       "      <td>1954400510</td>\n",
       "      <td>3</td>\n",
       "      <td>2.000</td>\n",
       "      <td>1680.000</td>\n",
       "      <td>8080.000</td>\n",
       "      <td>1.000</td>\n",
       "      <td>False</td>\n",
       "      <td>0</td>\n",
       "      <td>3</td>\n",
       "      <td>8</td>\n",
       "      <td>...</td>\n",
       "      <td>2015</td>\n",
       "      <td>2</td>\n",
       "      <td>18</td>\n",
       "      <td>2</td>\n",
       "      <td>303.571</td>\n",
       "      <td>63.119</td>\n",
       "      <td>283.333</td>\n",
       "      <td>67.973</td>\n",
       "      <td>2841.240</td>\n",
       "      <td>True</td>\n",
       "    </tr>\n",
       "  </tbody>\n",
       "</table>\n",
       "<p>5 rows × 31 columns</p>\n",
       "</div>"
      ],
      "text/plain": [
       "           id  bedrooms  bathrooms  sqft_living  sqft_lot  floors  waterfront  \\\n",
       "0  7129300520         3      1.000     1180.000  5650.000   1.000       False   \n",
       "1  6414100192         3      2.250     2570.000  7242.000   2.000       False   \n",
       "2  5631500400         2      1.000      770.000 10000.000   1.000       False   \n",
       "3  2487200875         4      3.000     1960.000  5000.000   1.000       False   \n",
       "4  1954400510         3      2.000     1680.000  8080.000   1.000       False   \n",
       "\n",
       "   view  condition  grade  ...  sales_year  sales_month  sales_day  \\\n",
       "0     0          3      7  ...        2014           10         13   \n",
       "1     0          3      7  ...        2014           12          9   \n",
       "2     0          3      6  ...        2015            2         25   \n",
       "3     0          5      7  ...        2014           12          9   \n",
       "4     0          3      8  ...        2015            2         18   \n",
       "\n",
       "   sales_day_of_week  price_per_sqft_living  price_per_sqft_lot  \\\n",
       "0                  0                188.051              39.274   \n",
       "1                  1                209.339              74.289   \n",
       "2                  2                233.766              18.000   \n",
       "3                  1                308.163             120.800   \n",
       "4                  2                303.571              63.119   \n",
       "\n",
       "   price_per_sqft_living15  price_per_sqft_lot15  price_per_sqft_mean  \\\n",
       "0                  165.597                39.274             2053.695   \n",
       "1                  318.343                70.428             3200.482   \n",
       "2                   66.176                22.327             2115.969   \n",
       "3                  444.118               120.800             2430.875   \n",
       "4                  283.333                67.973             2841.240   \n",
       "\n",
       "  affordable  \n",
       "0       True  \n",
       "1       True  \n",
       "2       True  \n",
       "3       True  \n",
       "4       True  \n",
       "\n",
       "[5 rows x 31 columns]"
      ]
     },
     "execution_count": 302,
     "metadata": {},
     "output_type": "execute_result"
    }
   ],
   "source": [
    "df_customer.head()"
   ]
  },
  {
   "attachments": {},
   "cell_type": "markdown",
   "metadata": {},
   "source": [
    "## Hypotheses\n",
    "- 'price' and 'sqft_.' correlate and can be combined to a vareable price/mean(sqft_*)\n",
    "- there is a time in the year when prices drop and houses are cheap\n",
    "- a whealthy area is not supposed to fit the needs of the customer\n",
    "- houses not renovated are cheaper"
   ]
  },
  {
   "attachments": {},
   "cell_type": "markdown",
   "metadata": {},
   "source": [
    "## Correlation of sqft"
   ]
  },
  {
   "cell_type": "code",
   "execution_count": 303,
   "metadata": {},
   "outputs": [
    {
     "data": {
      "image/png": "[encoded data removed]",
      "text/plain": [
       "<Figure size 1000x800 with 2 Axes>"
      ]
     },
     "metadata": {},
     "output_type": "display_data"
    }
   ],
   "source": [
    "# draw the heatmap\n",
    "plt.figure(figsize=(10, 8))\n",
    "corr = df_customer[\n",
    "    [\"price\", \"sqft_living\", \"sqft_living15\", \"sqft_lot\", \"sqft_lot15\"]\n",
    "].corr()\n",
    "ax = sns.heatmap(corr, linewidths=0.5, annot=True, cmap=\"coolwarm\")"
   ]
  },
  {
   "attachments": {},
   "cell_type": "markdown",
   "metadata": {},
   "source": [
    "### Plot mean price per square footage for living space per zipcode"
   ]
  },
  {
   "cell_type": "code",
   "execution_count": 304,
   "metadata": {},
   "outputs": [
    {
     "data": {
      "application/vnd.plotly.v1+json": {
       "config": {
        "plotlyServerURL": "https://plot.ly"
       },
       "data": [
        {
         "customdata": [
          [
           260000
          ],
          [
           235000
          ],
          [
           267475
          ],
          [
           1150000
          ],
          [
           765475
          ],
          [
           760184.5
          ],
          [
           555000
          ],
          [
           545000
          ],
          [
           359999.5
          ],
          [
           470000
          ],
          [
           415000
          ],
          [
           401250
          ],
          [
           280000
          ],
          [
           268450
          ],
          [
           462500
          ],
          [
           570500
          ],
          [
           445000
          ],
          [
           575000
          ],
          [
           282255
          ],
          [
           288000
          ],
          [
           249000
          ],
          [
           678350
          ],
          [
           445950
          ],
          [
           342000
          ],
          [
           1895000
          ],
          [
           993750
          ],
          [
           291500
          ],
          [
           404750
          ],
          [
           615000
          ],
          [
           635000
          ],
          [
           294950
          ],
          [
           380000
          ],
          [
           335000
          ],
          [
           435000
          ],
          [
           502500
          ],
          [
           465000
          ],
          [
           515000
          ],
          [
           642000
          ],
          [
           739999
          ],
          [
           652475
          ],
          [
           309780
          ],
          [
           710000
          ],
          [
           550000
          ],
          [
           675000
          ],
          [
           315000
          ],
          [
           529950
          ],
          [
           342500
          ],
          [
           736000
          ],
          [
           915000
          ],
          [
           567000
          ],
          [
           562750
          ],
          [
           544000
          ],
          [
           367500
          ],
          [
           744975
          ],
          [
           572000
          ],
          [
           425000
          ],
          [
           395750
          ],
          [
           375000
          ],
          [
           489950
          ],
          [
           450000
          ],
          [
           305000
          ],
          [
           278000
          ],
          [
           375000
          ],
          [
           390000
          ],
          [
           235000
          ],
          [
           554000
          ],
          [
           278277
          ],
          [
           264000
          ],
          [
           265000
          ],
          [
           689800
          ]
         ],
         "hovertemplate": "<b>%{hovertext}</b><br><br>price=%{customdata[0]}<br>lat=%{lat}<br>lon=%{lon}<br>price_per_sqft_living=%{marker.color}<extra></extra>",
         "hovertext": [
          98001,
          98002,
          98003,
          98004,
          98005,
          98006,
          98007,
          98008,
          98010,
          98011,
          98014,
          98019,
          98022,
          98023,
          98024,
          98027,
          98028,
          98029,
          98030,
          98031,
          98032,
          98033,
          98034,
          98038,
          98039,
          98040,
          98042,
          98045,
          98052,
          98053,
          98055,
          98056,
          98058,
          98059,
          98065,
          98070,
          98072,
          98074,
          98075,
          98077,
          98092,
          98102,
          98103,
          98105,
          98106,
          98107,
          98108,
          98109,
          98112,
          98115,
          98116,
          98117,
          98118,
          98119,
          98122,
          98125,
          98126,
          98133,
          98136,
          98144,
          98146,
          98148,
          98155,
          98166,
          98168,
          98177,
          98178,
          98188,
          98198,
          98199
         ],
         "lat": [
          47.3162,
          47.3063,
          47.3287,
          47.6214,
          47.60335,
          47.5585,
          47.6079,
          47.6159,
          47.33525,
          47.7557,
          47.672200000000004,
          47.73555,
          47.206,
          47.3083,
          47.5619,
          47.532250000000005,
          47.7558,
          47.5582,
          47.37115,
          47.4039,
          47.3739,
          47.6837,
          47.7217,
          47.3642,
          47.623900000000006,
          47.5625,
          47.3666,
          47.47755,
          47.68305,
          47.6824,
          47.4562,
          47.50985,
          47.4476,
          47.48935,
          47.53365,
          47.4145,
          47.7498,
          47.6251,
          47.5884,
          47.74605,
          47.3107,
          47.6371,
          47.67945,
          47.6656,
          47.5327,
          47.6711,
          47.5519,
          47.6372,
          47.6288,
          47.6845,
          47.5732,
          47.686,
          47.5453,
          47.638999999999996,
          47.61025,
          47.7164,
          47.544,
          47.7332,
          47.5404,
          47.5876,
          47.503550000000004,
          47.4327,
          47.7538,
          47.456,
          47.4889,
          47.7537,
          47.49915,
          47.44815,
          47.392250000000004,
          47.648
         ],
         "legendgroup": "",
         "lon": [
          -122.272,
          -122.215,
          -122.308,
          -122.205,
          -122.1685,
          -122.1465,
          -122.142,
          -122.117,
          -122.003,
          -122.202,
          -121.911,
          -121.967,
          -121.999,
          -122.365,
          -121.901,
          -122.047,
          -122.244,
          -122.003,
          -122.185,
          -122.188,
          -122.284,
          -122.188,
          -122.212,
          -122.033,
          -122.2355,
          -122.225,
          -122.115,
          -121.7695,
          -122.1165,
          -122.026,
          -122.2015,
          -122.182,
          -122.151,
          -122.146,
          -121.87,
          -122.461,
          -122.132,
          -122.045,
          -122.022,
          -122.068,
          -122.18,
          -122.321,
          -122.346,
          -122.288,
          -122.357,
          -122.372,
          -122.304,
          -122.351,
          -122.3,
          -122.304,
          -122.392,
          -122.378,
          -122.275,
          -122.368,
          -122.299,
          -122.301,
          -122.376,
          -122.343,
          -122.388,
          -122.296,
          -122.358,
          -122.329,
          -122.3055,
          -122.349,
          -122.312,
          -122.368,
          -122.2465,
          -122.282,
          -122.317,
          -122.398
         ],
         "marker": {
          "color": [
           147.14134462678666,
           147.17741935483872,
           154.81924571211977,
           456.94444444444446,
           316.3404308827228,
           288.23291737245336,
           289.58620689655174,
           291.93548387096774,
           194.2111870553773,
           221.1042944785276,
           212.12357164526242,
           197.24801837506755,
           166.66666666666666,
           144.97041420118344,
           243.1961639743741,
           251.24289480187824,
           221.8543046357616,
           271.42857142857144,
           152.17391304347825,
           157.06806282722513,
           146.20535714285714,
           324.00068111191524,
           255.9726962457338,
           170.92592592592592,
           565.1656142683062,
           376.3708224934961,
           159.24778761061947,
           209.58034736347992,
           274.67608713256135,
           268.58698630136985,
           173.89941926337855,
           204.8728094968909,
           173.07692307692307,
           196.77694533046508,
           206.38030929611443,
           251.4367816091954,
           241.83673469387756,
           255.35168195718654,
           250.83023255813953,
           242.21890477361342,
           149.18032786885246,
           406.3637714540456,
           360.4703998615198,
           391.812865497076,
           215.9090909090909,
           372.80056759545926,
           208.30114396077846,
           427.69607843137254,
           424.24242424242425,
           336.8421052631579,
           335.8507320453955,
           344.2028985507246,
           241.70212765957447,
           416.6527777777778,
           356.65223144472515,
           264.1869918699187,
           274.4500239120038,
           245.09803921568627,
           319.44444444444446,
           302.63157894736844,
           201.82104565049187,
           181.42292490118578,
           234.9496644295302,
           211.32376395534288,
           164.72602739726028,
           272.0748299319728,
           176.6234591434744,
           163.8970588235294,
           171.95281306715063,
           354.3046357615894
          ],
          "coloraxis": "coloraxis",
          "size": [
           260000,
           235000,
           267475,
           1150000,
           765475,
           760184.5,
           555000,
           545000,
           359999.5,
           470000,
           415000,
           401250,
           280000,
           268450,
           462500,
           570500,
           445000,
           575000,
           282255,
           288000,
           249000,
           678350,
           445950,
           342000,
           1895000,
           993750,
           291500,
           404750,
           615000,
           635000,
           294950,
           380000,
           335000,
           435000,
           502500,
           465000,
           515000,
           642000,
           739999,
           652475,
           309780,
           710000,
           550000,
           675000,
           315000,
           529950,
           342500,
           736000,
           915000,
           567000,
           562750,
           544000,
           367500,
           744975,
           572000,
           425000,
           395750,
           375000,
           489950,
           450000,
           305000,
           278000,
           375000,
           390000,
           235000,
           554000,
           278277,
           264000,
           265000,
           689800
          ],
          "sizemode": "area",
          "sizeref": 4737.5
         },
         "mode": "markers",
         "name": "",
         "showlegend": false,
         "subplot": "mapbox",
         "type": "scattermapbox"
        }
       ],
       "layout": {
        "coloraxis": {
         "colorbar": {
          "title": {
           "text": "price_per_sqft_living"
          }
         },
         "colorscale": [
          [
           0,
           "#0d0887"
          ],
          [
           0.1111111111111111,
           "#46039f"
          ],
          [
           0.2222222222222222,
           "#7201a8"
          ],
          [
           0.3333333333333333,
           "#9c179e"
          ],
          [
           0.4444444444444444,
           "#bd3786"
          ],
          [
           0.5555555555555556,
           "#d8576b"
          ],
          [
           0.6666666666666666,
           "#ed7953"
          ],
          [
           0.7777777777777778,
           "#fb9f3a"
          ],
          [
           0.8888888888888888,
           "#fdca26"
          ],
          [
           1,
           "#f0f921"
          ]
         ]
        },
        "height": 600,
        "legend": {
         "itemsizing": "constant",
         "tracegroupgap": 0
        },
        "mapbox": {
         "center": {
          "lat": 47.55435785714286,
          "lon": -122.21251428571426
         },
         "domain": {
          "x": [
           0,
           1
          ],
          "y": [
           0,
           1
          ]
         },
         "style": "open-street-map",
         "zoom": 9
        },
        "margin": {
         "b": 10,
         "l": 10,
         "r": 10,
         "t": 10
        },
        "template": {
         "data": {
          "bar": [
           {
            "error_x": {
             "color": "#2a3f5f"
            },
            "error_y": {
             "color": "#2a3f5f"
            },
            "marker": {
             "line": {
              "color": "#E5ECF6",
              "width": 0.5
             },
             "pattern": {
              "fillmode": "overlay",
              "size": 10,
              "solidity": 0.2
             }
            },
            "type": "bar"
           }
          ],
          "barpolar": [
           {
            "marker": {
             "line": {
              "color": "#E5ECF6",
              "width": 0.5
             },
             "pattern": {
              "fillmode": "overlay",
              "size": 10,
              "solidity": 0.2
             }
            },
            "type": "barpolar"
           }
          ],
          "carpet": [
           {
            "aaxis": {
             "endlinecolor": "#2a3f5f",
             "gridcolor": "white",
             "linecolor": "white",
             "minorgridcolor": "white",
             "startlinecolor": "#2a3f5f"
            },
            "baxis": {
             "endlinecolor": "#2a3f5f",
             "gridcolor": "white",
             "linecolor": "white",
             "minorgridcolor": "white",
             "startlinecolor": "#2a3f5f"
            },
            "type": "carpet"
           }
          ],
          "choropleth": [
           {
            "colorbar": {
             "outlinewidth": 0,
             "ticks": ""
            },
            "type": "choropleth"
           }
          ],
          "contour": [
           {
            "colorbar": {
             "outlinewidth": 0,
             "ticks": ""
            },
            "colorscale": [
             [
              0,
              "#0d0887"
             ],
             [
              0.1111111111111111,
              "#46039f"
             ],
             [
              0.2222222222222222,
              "#7201a8"
             ],
             [
              0.3333333333333333,
              "#9c179e"
             ],
             [
              0.4444444444444444,
              "#bd3786"
             ],
             [
              0.5555555555555556,
              "#d8576b"
             ],
             [
              0.6666666666666666,
              "#ed7953"
             ],
             [
              0.7777777777777778,
              "#fb9f3a"
             ],
             [
              0.8888888888888888,
              "#fdca26"
             ],
             [
              1,
              "#f0f921"
             ]
            ],
            "type": "contour"
           }
          ],
          "contourcarpet": [
           {
            "colorbar": {
             "outlinewidth": 0,
             "ticks": ""
            },
            "type": "contourcarpet"
           }
          ],
          "heatmap": [
           {
            "colorbar": {
             "outlinewidth": 0,
             "ticks": ""
            },
            "colorscale": [
             [
              0,
              "#0d0887"
             ],
             [
              0.1111111111111111,
              "#46039f"
             ],
             [
              0.2222222222222222,
              "#7201a8"
             ],
             [
              0.3333333333333333,
              "#9c179e"
             ],
             [
              0.4444444444444444,
              "#bd3786"
             ],
             [
              0.5555555555555556,
              "#d8576b"
             ],
             [
              0.6666666666666666,
              "#ed7953"
             ],
             [
              0.7777777777777778,
              "#fb9f3a"
             ],
             [
              0.8888888888888888,
              "#fdca26"
             ],
             [
              1,
              "#f0f921"
             ]
            ],
            "type": "heatmap"
           }
          ],
          "heatmapgl": [
           {
            "colorbar": {
             "outlinewidth": 0,
             "ticks": ""
            },
            "colorscale": [
             [
              0,
              "#0d0887"
             ],
             [
              0.1111111111111111,
              "#46039f"
             ],
             [
              0.2222222222222222,
              "#7201a8"
             ],
             [
              0.3333333333333333,
              "#9c179e"
             ],
             [
              0.4444444444444444,
              "#bd3786"
             ],
             [
              0.5555555555555556,
              "#d8576b"
             ],
             [
              0.6666666666666666,
              "#ed7953"
             ],
             [
              0.7777777777777778,
              "#fb9f3a"
             ],
             [
              0.8888888888888888,
              "#fdca26"
             ],
             [
              1,
              "#f0f921"
             ]
            ],
            "type": "heatmapgl"
           }
          ],
          "histogram": [
           {
            "marker": {
             "pattern": {
              "fillmode": "overlay",
              "size": 10,
              "solidity": 0.2
             }
            },
            "type": "histogram"
           }
          ],
          "histogram2d": [
           {
            "colorbar": {
             "outlinewidth": 0,
             "ticks": ""
            },
            "colorscale": [
             [
              0,
              "#0d0887"
             ],
             [
              0.1111111111111111,
              "#46039f"
             ],
             [
              0.2222222222222222,
              "#7201a8"
             ],
             [
              0.3333333333333333,
              "#9c179e"
             ],
             [
              0.4444444444444444,
              "#bd3786"
             ],
             [
              0.5555555555555556,
              "#d8576b"
             ],
             [
              0.6666666666666666,
              "#ed7953"
             ],
             [
              0.7777777777777778,
              "#fb9f3a"
             ],
             [
              0.8888888888888888,
              "#fdca26"
             ],
             [
              1,
              "#f0f921"
             ]
            ],
            "type": "histogram2d"
           }
          ],
          "histogram2dcontour": [
           {
            "colorbar": {
             "outlinewidth": 0,
             "ticks": ""
            },
            "colorscale": [
             [
              0,
              "#0d0887"
             ],
             [
              0.1111111111111111,
              "#46039f"
             ],
             [
              0.2222222222222222,
              "#7201a8"
             ],
             [
              0.3333333333333333,
              "#9c179e"
             ],
             [
              0.4444444444444444,
              "#bd3786"
             ],
             [
              0.5555555555555556,
              "#d8576b"
             ],
             [
              0.6666666666666666,
              "#ed7953"
             ],
             [
              0.7777777777777778,
              "#fb9f3a"
             ],
             [
              0.8888888888888888,
              "#fdca26"
             ],
             [
              1,
              "#f0f921"
             ]
            ],
            "type": "histogram2dcontour"
           }
          ],
          "mesh3d": [
           {
            "colorbar": {
             "outlinewidth": 0,
             "ticks": ""
            },
            "type": "mesh3d"
           }
          ],
          "parcoords": [
           {
            "line": {
             "colorbar": {
              "outlinewidth": 0,
              "ticks": ""
             }
            },
            "type": "parcoords"
           }
          ],
          "pie": [
           {
            "automargin": true,
            "type": "pie"
           }
          ],
          "scatter": [
           {
            "fillpattern": {
             "fillmode": "overlay",
             "size": 10,
             "solidity": 0.2
            },
            "type": "scatter"
           }
          ],
          "scatter3d": [
           {
            "line": {
             "colorbar": {
              "outlinewidth": 0,
              "ticks": ""
             }
            },
            "marker": {
             "colorbar": {
              "outlinewidth": 0,
              "ticks": ""
             }
            },
            "type": "scatter3d"
           }
          ],
          "scattercarpet": [
           {
            "marker": {
             "colorbar": {
              "outlinewidth": 0,
              "ticks": ""
             }
            },
            "type": "scattercarpet"
           }
          ],
          "scattergeo": [
           {
            "marker": {
             "colorbar": {
              "outlinewidth": 0,
              "ticks": ""
             }
            },
            "type": "scattergeo"
           }
          ],
          "scattergl": [
           {
            "marker": {
             "colorbar": {
              "outlinewidth": 0,
              "ticks": ""
             }
            },
            "type": "scattergl"
           }
          ],
          "scattermapbox": [
           {
            "marker": {
             "colorbar": {
              "outlinewidth": 0,
              "ticks": ""
             }
            },
            "type": "scattermapbox"
           }
          ],
          "scatterpolar": [
           {
            "marker": {
             "colorbar": {
              "outlinewidth": 0,
              "ticks": ""
             }
            },
            "type": "scatterpolar"
           }
          ],
          "scatterpolargl": [
           {
            "marker": {
             "colorbar": {
              "outlinewidth": 0,
              "ticks": ""
             }
            },
            "type": "scatterpolargl"
           }
          ],
          "scatterternary": [
           {
            "marker": {
             "colorbar": {
              "outlinewidth": 0,
              "ticks": ""
             }
            },
            "type": "scatterternary"
           }
          ],
          "surface": [
           {
            "colorbar": {
             "outlinewidth": 0,
             "ticks": ""
            },
            "colorscale": [
             [
              0,
              "#0d0887"
             ],
             [
              0.1111111111111111,
              "#46039f"
             ],
             [
              0.2222222222222222,
              "#7201a8"
             ],
             [
              0.3333333333333333,
              "#9c179e"
             ],
             [
              0.4444444444444444,
              "#bd3786"
             ],
             [
              0.5555555555555556,
              "#d8576b"
             ],
             [
              0.6666666666666666,
              "#ed7953"
             ],
             [
              0.7777777777777778,
              "#fb9f3a"
             ],
             [
              0.8888888888888888,
              "#fdca26"
             ],
             [
              1,
              "#f0f921"
             ]
            ],
            "type": "surface"
           }
          ],
          "table": [
           {
            "cells": {
             "fill": {
              "color": "#EBF0F8"
             },
             "line": {
              "color": "white"
             }
            },
            "header": {
             "fill": {
              "color": "#C8D4E3"
             },
             "line": {
              "color": "white"
             }
            },
            "type": "table"
           }
          ]
         },
         "layout": {
          "annotationdefaults": {
           "arrowcolor": "#2a3f5f",
           "arrowhead": 0,
           "arrowwidth": 1
          },
          "autotypenumbers": "strict",
          "coloraxis": {
           "colorbar": {
            "outlinewidth": 0,
            "ticks": ""
           }
          },
          "colorscale": {
           "diverging": [
            [
             0,
             "#8e0152"
            ],
            [
             0.1,
             "#c51b7d"
            ],
            [
             0.2,
             "#de77ae"
            ],
            [
             0.3,
             "#f1b6da"
            ],
            [
             0.4,
             "#fde0ef"
            ],
            [
             0.5,
             "#f7f7f7"
            ],
            [
             0.6,
             "#e6f5d0"
            ],
            [
             0.7,
             "#b8e186"
            ],
            [
             0.8,
             "#7fbc41"
            ],
            [
             0.9,
             "#4d9221"
            ],
            [
             1,
             "#276419"
            ]
           ],
           "sequential": [
            [
             0,
             "#0d0887"
            ],
            [
             0.1111111111111111,
             "#46039f"
            ],
            [
             0.2222222222222222,
             "#7201a8"
            ],
            [
             0.3333333333333333,
             "#9c179e"
            ],
            [
             0.4444444444444444,
             "#bd3786"
            ],
            [
             0.5555555555555556,
             "#d8576b"
            ],
            [
             0.6666666666666666,
             "#ed7953"
            ],
            [
             0.7777777777777778,
             "#fb9f3a"
            ],
            [
             0.8888888888888888,
             "#fdca26"
            ],
            [
             1,
             "#f0f921"
            ]
           ],
           "sequentialminus": [
            [
             0,
             "#0d0887"
            ],
            [
             0.1111111111111111,
             "#46039f"
            ],
            [
             0.2222222222222222,
             "#7201a8"
            ],
            [
             0.3333333333333333,
             "#9c179e"
            ],
            [
             0.4444444444444444,
             "#bd3786"
            ],
            [
             0.5555555555555556,
             "#d8576b"
            ],
            [
             0.6666666666666666,
             "#ed7953"
            ],
            [
             0.7777777777777778,
             "#fb9f3a"
            ],
            [
             0.8888888888888888,
             "#fdca26"
            ],
            [
             1,
             "#f0f921"
            ]
           ]
          },
          "colorway": [
           "#636efa",
           "#EF553B",
           "#00cc96",
           "#ab63fa",
           "#FFA15A",
           "#19d3f3",
           "#FF6692",
           "#B6E880",
           "#FF97FF",
           "#FECB52"
          ],
          "font": {
           "color": "#2a3f5f"
          },
          "geo": {
           "bgcolor": "white",
           "lakecolor": "white",
           "landcolor": "#E5ECF6",
           "showlakes": true,
           "showland": true,
           "subunitcolor": "white"
          },
          "hoverlabel": {
           "align": "left"
          },
          "hovermode": "closest",
          "mapbox": {
           "style": "light"
          },
          "paper_bgcolor": "white",
          "plot_bgcolor": "#E5ECF6",
          "polar": {
           "angularaxis": {
            "gridcolor": "white",
            "linecolor": "white",
            "ticks": ""
           },
           "bgcolor": "#E5ECF6",
           "radialaxis": {
            "gridcolor": "white",
            "linecolor": "white",
            "ticks": ""
           }
          },
          "scene": {
           "xaxis": {
            "backgroundcolor": "#E5ECF6",
            "gridcolor": "white",
            "gridwidth": 2,
            "linecolor": "white",
            "showbackground": true,
            "ticks": "",
            "zerolinecolor": "white"
           },
           "yaxis": {
            "backgroundcolor": "#E5ECF6",
            "gridcolor": "white",
            "gridwidth": 2,
            "linecolor": "white",
            "showbackground": true,
            "ticks": "",
            "zerolinecolor": "white"
           },
           "zaxis": {
            "backgroundcolor": "#E5ECF6",
            "gridcolor": "white",
            "gridwidth": 2,
            "linecolor": "white",
            "showbackground": true,
            "ticks": "",
            "zerolinecolor": "white"
           }
          },
          "shapedefaults": {
           "line": {
            "color": "#2a3f5f"
           }
          },
          "ternary": {
           "aaxis": {
            "gridcolor": "white",
            "linecolor": "white",
            "ticks": ""
           },
           "baxis": {
            "gridcolor": "white",
            "linecolor": "white",
            "ticks": ""
           },
           "bgcolor": "#E5ECF6",
           "caxis": {
            "gridcolor": "white",
            "linecolor": "white",
            "ticks": ""
           }
          },
          "title": {
           "x": 0.05
          },
          "xaxis": {
           "automargin": true,
           "gridcolor": "white",
           "linecolor": "white",
           "ticks": "",
           "title": {
            "standoff": 15
           },
           "zerolinecolor": "white",
           "zerolinewidth": 2
          },
          "yaxis": {
           "automargin": true,
           "gridcolor": "white",
           "linecolor": "white",
           "ticks": "",
           "title": {
            "standoff": 15
           },
           "zerolinecolor": "white",
           "zerolinewidth": 2
          }
         }
        },
        "width": 800
       }
      }
     },
     "metadata": {},
     "output_type": "display_data"
    }
   ],
   "source": [
    "df_zipcodes = (\n",
    "    df.groupby(\"zipcode\")[\"lat\", \"lon\", \"price_per_sqft_living\", \"price\"]\n",
    "    .median()\n",
    "    .reset_index()\n",
    ")\n",
    "\n",
    "fig = px.scatter_mapbox(\n",
    "    df_zipcodes,\n",
    "    lat=\"lat\",\n",
    "    lon=\"lon\",\n",
    "    hover_name=\"zipcode\",\n",
    "    hover_data=[\"price\"],\n",
    "    color=\"price_per_sqft_living\",\n",
    "    size=\"price\",\n",
    "    zoom=9,\n",
    "    width=800,\n",
    "    height=600,\n",
    ")\n",
    "fig.update_layout(mapbox_style=\"open-street-map\")\n",
    "fig.update_layout(margin={\"r\": 10, \"t\": 10, \"l\": 10, \"b\": 10})\n",
    "fig.show()"
   ]
  },
  {
   "cell_type": "code",
   "execution_count": 305,
   "metadata": {},
   "outputs": [
    {
     "data": {
      "text/plain": [
       "<AxesSubplot:xlabel='sales_day', ylabel='price'>"
      ]
     },
     "execution_count": 305,
     "metadata": {},
     "output_type": "execute_result"
    },
    {
     "data": {
      "image/png": "[encoded data removed]",
      "text/plain": [
       "<Figure size 800x500 with 1 Axes>"
      ]
     },
     "metadata": {},
     "output_type": "display_data"
    }
   ],
   "source": [
    "sns.boxplot(data=df_customer, x=\"sales_day\", y=\"price\")"
   ]
  },
  {
   "attachments": {},
   "cell_type": "markdown",
   "metadata": {},
   "source": [
    "It seems, that the price is relatet to the day of the week"
   ]
  },
  {
   "cell_type": "code",
   "execution_count": 306,
   "metadata": {},
   "outputs": [
    {
     "data": {
      "text/plain": [
       "<AxesSubplot:xlabel='sales_day_of_week', ylabel='price_per_sqft_living'>"
      ]
     },
     "execution_count": 306,
     "metadata": {},
     "output_type": "execute_result"
    },
    {
     "data": {
      "image/png": "[encoded data removed]",
      "text/plain": [
       "<Figure size 800x500 with 1 Axes>"
      ]
     },
     "metadata": {},
     "output_type": "display_data"
    }
   ],
   "source": [
    "sns.lineplot(x=df_customer.sales_day_of_week, y=df_customer.price_per_sqft_living)"
   ]
  },
  {
   "attachments": {},
   "cell_type": "markdown",
   "metadata": {},
   "source": [
    "we want to find out, if the month in combination with the day of week plays a role"
   ]
  },
  {
   "cell_type": "code",
   "execution_count": 325,
   "metadata": {},
   "outputs": [
    {
     "data": {
      "text/plain": [
       "<AxesSubplot:xlabel='sales_day_of_week', ylabel='sales_month'>"
      ]
     },
     "execution_count": 325,
     "metadata": {},
     "output_type": "execute_result"
    },
    {
     "data": {
      "image/png": "[encoded data removed]",
      "text/plain": [
       "<Figure size 800x500 with 2 Axes>"
      ]
     },
     "metadata": {},
     "output_type": "display_data"
    }
   ],
   "source": [
    "df_time_relation = (\n",
    "    df_customer.groupby([\"sales_month\", \"sales_day_of_week\"])[\"price_per_sqft_living\"]\n",
    "    .median()\n",
    "    .reset_index()\n",
    "    .pivot(\n",
    "        index=\"sales_month\", columns=\"sales_day_of_week\", values=\"price_per_sqft_living\"\n",
    "    )\n",
    ")\n",
    "sns.heatmap(\n",
    "    df_time_relation,\n",
    ")"
   ]
  },
  {
   "cell_type": "code",
   "execution_count": 315,
   "metadata": {},
   "outputs": [
    {
     "data": {
      "text/html": [
       "<div>\n",
       "<style scoped>\n",
       "    .dataframe tbody tr th:only-of-type {\n",
       "        vertical-align: middle;\n",
       "    }\n",
       "\n",
       "    .dataframe tbody tr th {\n",
       "        vertical-align: top;\n",
       "    }\n",
       "\n",
       "    .dataframe thead th {\n",
       "        text-align: right;\n",
       "    }\n",
       "</style>\n",
       "<table border=\"1\" class=\"dataframe\">\n",
       "  <thead>\n",
       "    <tr style=\"text-align: right;\">\n",
       "      <th></th>\n",
       "      <th>id</th>\n",
       "      <th>bedrooms</th>\n",
       "      <th>bathrooms</th>\n",
       "      <th>sqft_living</th>\n",
       "      <th>sqft_lot</th>\n",
       "      <th>floors</th>\n",
       "      <th>waterfront</th>\n",
       "      <th>view</th>\n",
       "      <th>condition</th>\n",
       "      <th>grade</th>\n",
       "      <th>...</th>\n",
       "      <th>sales_year</th>\n",
       "      <th>sales_month</th>\n",
       "      <th>sales_day</th>\n",
       "      <th>sales_day_of_week</th>\n",
       "      <th>price_per_sqft_living</th>\n",
       "      <th>price_per_sqft_lot</th>\n",
       "      <th>price_per_sqft_living15</th>\n",
       "      <th>price_per_sqft_lot15</th>\n",
       "      <th>price_per_sqft_mean</th>\n",
       "      <th>affordable</th>\n",
       "    </tr>\n",
       "  </thead>\n",
       "  <tbody>\n",
       "    <tr>\n",
       "      <th>id</th>\n",
       "      <td>1.000</td>\n",
       "      <td>0.001</td>\n",
       "      <td>0.005</td>\n",
       "      <td>-0.012</td>\n",
       "      <td>-0.132</td>\n",
       "      <td>0.019</td>\n",
       "      <td>-0.004</td>\n",
       "      <td>0.013</td>\n",
       "      <td>-0.024</td>\n",
       "      <td>0.008</td>\n",
       "      <td>...</td>\n",
       "      <td>0.010</td>\n",
       "      <td>-0.012</td>\n",
       "      <td>0.002</td>\n",
       "      <td>-0.000</td>\n",
       "      <td>-0.005</td>\n",
       "      <td>0.060</td>\n",
       "      <td>-0.012</td>\n",
       "      <td>0.065</td>\n",
       "      <td>-0.052</td>\n",
       "      <td>0.038</td>\n",
       "    </tr>\n",
       "    <tr>\n",
       "      <th>bedrooms</th>\n",
       "      <td>0.001</td>\n",
       "      <td>1.000</td>\n",
       "      <td>0.515</td>\n",
       "      <td>0.578</td>\n",
       "      <td>0.032</td>\n",
       "      <td>0.178</td>\n",
       "      <td>-0.002</td>\n",
       "      <td>0.078</td>\n",
       "      <td>0.026</td>\n",
       "      <td>0.357</td>\n",
       "      <td>...</td>\n",
       "      <td>-0.010</td>\n",
       "      <td>-0.001</td>\n",
       "      <td>-0.008</td>\n",
       "      <td>0.010</td>\n",
       "      <td>-0.206</td>\n",
       "      <td>-0.063</td>\n",
       "      <td>0.133</td>\n",
       "      <td>-0.003</td>\n",
       "      <td>0.481</td>\n",
       "      <td>-0.204</td>\n",
       "    </tr>\n",
       "    <tr>\n",
       "      <th>bathrooms</th>\n",
       "      <td>0.005</td>\n",
       "      <td>0.515</td>\n",
       "      <td>1.000</td>\n",
       "      <td>0.756</td>\n",
       "      <td>0.088</td>\n",
       "      <td>0.503</td>\n",
       "      <td>0.064</td>\n",
       "      <td>0.185</td>\n",
       "      <td>-0.126</td>\n",
       "      <td>0.666</td>\n",
       "      <td>...</td>\n",
       "      <td>-0.027</td>\n",
       "      <td>0.008</td>\n",
       "      <td>-0.005</td>\n",
       "      <td>0.010</td>\n",
       "      <td>-0.090</td>\n",
       "      <td>0.203</td>\n",
       "      <td>0.282</td>\n",
       "      <td>0.239</td>\n",
       "      <td>0.589</td>\n",
       "      <td>-0.369</td>\n",
       "    </tr>\n",
       "    <tr>\n",
       "      <th>sqft_living</th>\n",
       "      <td>-0.012</td>\n",
       "      <td>0.578</td>\n",
       "      <td>0.756</td>\n",
       "      <td>1.000</td>\n",
       "      <td>0.173</td>\n",
       "      <td>0.354</td>\n",
       "      <td>0.105</td>\n",
       "      <td>0.280</td>\n",
       "      <td>-0.059</td>\n",
       "      <td>0.763</td>\n",
       "      <td>...</td>\n",
       "      <td>-0.029</td>\n",
       "      <td>0.012</td>\n",
       "      <td>-0.007</td>\n",
       "      <td>0.005</td>\n",
       "      <td>-0.091</td>\n",
       "      <td>0.022</td>\n",
       "      <td>0.352</td>\n",
       "      <td>0.096</td>\n",
       "      <td>0.865</td>\n",
       "      <td>-0.504</td>\n",
       "    </tr>\n",
       "    <tr>\n",
       "      <th>sqft_lot</th>\n",
       "      <td>-0.132</td>\n",
       "      <td>0.032</td>\n",
       "      <td>0.088</td>\n",
       "      <td>0.173</td>\n",
       "      <td>1.000</td>\n",
       "      <td>-0.005</td>\n",
       "      <td>0.021</td>\n",
       "      <td>0.075</td>\n",
       "      <td>-0.009</td>\n",
       "      <td>0.115</td>\n",
       "      <td>...</td>\n",
       "      <td>0.006</td>\n",
       "      <td>-0.003</td>\n",
       "      <td>0.000</td>\n",
       "      <td>-0.003</td>\n",
       "      <td>-0.035</td>\n",
       "      <td>-0.206</td>\n",
       "      <td>0.018</td>\n",
       "      <td>-0.194</td>\n",
       "      <td>0.300</td>\n",
       "      <td>-0.053</td>\n",
       "    </tr>\n",
       "    <tr>\n",
       "      <th>floors</th>\n",
       "      <td>0.019</td>\n",
       "      <td>0.178</td>\n",
       "      <td>0.503</td>\n",
       "      <td>0.354</td>\n",
       "      <td>-0.005</td>\n",
       "      <td>1.000</td>\n",
       "      <td>0.021</td>\n",
       "      <td>0.028</td>\n",
       "      <td>-0.264</td>\n",
       "      <td>0.459</td>\n",
       "      <td>...</td>\n",
       "      <td>-0.022</td>\n",
       "      <td>0.014</td>\n",
       "      <td>-0.006</td>\n",
       "      <td>0.002</td>\n",
       "      <td>0.005</td>\n",
       "      <td>0.478</td>\n",
       "      <td>0.179</td>\n",
       "      <td>0.453</td>\n",
       "      <td>0.163</td>\n",
       "      <td>-0.158</td>\n",
       "    </tr>\n",
       "    <tr>\n",
       "      <th>waterfront</th>\n",
       "      <td>-0.004</td>\n",
       "      <td>-0.002</td>\n",
       "      <td>0.064</td>\n",
       "      <td>0.105</td>\n",
       "      <td>0.021</td>\n",
       "      <td>0.021</td>\n",
       "      <td>1.000</td>\n",
       "      <td>0.379</td>\n",
       "      <td>0.017</td>\n",
       "      <td>0.083</td>\n",
       "      <td>...</td>\n",
       "      <td>-0.005</td>\n",
       "      <td>0.008</td>\n",
       "      <td>0.014</td>\n",
       "      <td>-0.006</td>\n",
       "      <td>0.187</td>\n",
       "      <td>0.028</td>\n",
       "      <td>0.214</td>\n",
       "      <td>0.034</td>\n",
       "      <td>0.109</td>\n",
       "      <td>-0.194</td>\n",
       "    </tr>\n",
       "    <tr>\n",
       "      <th>view</th>\n",
       "      <td>0.013</td>\n",
       "      <td>0.078</td>\n",
       "      <td>0.185</td>\n",
       "      <td>0.280</td>\n",
       "      <td>0.075</td>\n",
       "      <td>0.028</td>\n",
       "      <td>0.379</td>\n",
       "      <td>1.000</td>\n",
       "      <td>0.045</td>\n",
       "      <td>0.248</td>\n",
       "      <td>...</td>\n",
       "      <td>0.000</td>\n",
       "      <td>-0.004</td>\n",
       "      <td>0.010</td>\n",
       "      <td>0.008</td>\n",
       "      <td>0.220</td>\n",
       "      <td>0.078</td>\n",
       "      <td>0.258</td>\n",
       "      <td>0.103</td>\n",
       "      <td>0.272</td>\n",
       "      <td>-0.346</td>\n",
       "    </tr>\n",
       "    <tr>\n",
       "      <th>condition</th>\n",
       "      <td>-0.024</td>\n",
       "      <td>0.026</td>\n",
       "      <td>-0.126</td>\n",
       "      <td>-0.059</td>\n",
       "      <td>-0.009</td>\n",
       "      <td>-0.264</td>\n",
       "      <td>0.017</td>\n",
       "      <td>0.045</td>\n",
       "      <td>1.000</td>\n",
       "      <td>-0.147</td>\n",
       "      <td>...</td>\n",
       "      <td>-0.046</td>\n",
       "      <td>0.022</td>\n",
       "      <td>-0.005</td>\n",
       "      <td>0.007</td>\n",
       "      <td>0.103</td>\n",
       "      <td>-0.086</td>\n",
       "      <td>0.098</td>\n",
       "      <td>-0.074</td>\n",
       "      <td>-0.024</td>\n",
       "      <td>-0.029</td>\n",
       "    </tr>\n",
       "    <tr>\n",
       "      <th>grade</th>\n",
       "      <td>0.008</td>\n",
       "      <td>0.357</td>\n",
       "      <td>0.666</td>\n",
       "      <td>0.763</td>\n",
       "      <td>0.115</td>\n",
       "      <td>0.459</td>\n",
       "      <td>0.083</td>\n",
       "      <td>0.248</td>\n",
       "      <td>-0.147</td>\n",
       "      <td>1.000</td>\n",
       "      <td>...</td>\n",
       "      <td>-0.031</td>\n",
       "      <td>0.009</td>\n",
       "      <td>-0.013</td>\n",
       "      <td>0.002</td>\n",
       "      <td>0.125</td>\n",
       "      <td>0.218</td>\n",
       "      <td>0.365</td>\n",
       "      <td>0.245</td>\n",
       "      <td>0.701</td>\n",
       "      <td>-0.483</td>\n",
       "    </tr>\n",
       "    <tr>\n",
       "      <th>sqft_above</th>\n",
       "      <td>-0.011</td>\n",
       "      <td>0.479</td>\n",
       "      <td>0.687</td>\n",
       "      <td>0.876</td>\n",
       "      <td>0.184</td>\n",
       "      <td>0.524</td>\n",
       "      <td>0.072</td>\n",
       "      <td>0.165</td>\n",
       "      <td>-0.159</td>\n",
       "      <td>0.756</td>\n",
       "      <td>...</td>\n",
       "      <td>-0.024</td>\n",
       "      <td>0.010</td>\n",
       "      <td>-0.003</td>\n",
       "      <td>0.006</td>\n",
       "      <td>-0.088</td>\n",
       "      <td>-0.005</td>\n",
       "      <td>0.258</td>\n",
       "      <td>0.057</td>\n",
       "      <td>0.794</td>\n",
       "      <td>-0.430</td>\n",
       "    </tr>\n",
       "    <tr>\n",
       "      <th>sqft_basement</th>\n",
       "      <td>-0.004</td>\n",
       "      <td>0.297</td>\n",
       "      <td>0.278</td>\n",
       "      <td>0.429</td>\n",
       "      <td>0.015</td>\n",
       "      <td>-0.242</td>\n",
       "      <td>0.083</td>\n",
       "      <td>0.268</td>\n",
       "      <td>0.169</td>\n",
       "      <td>0.166</td>\n",
       "      <td>...</td>\n",
       "      <td>-0.015</td>\n",
       "      <td>0.007</td>\n",
       "      <td>-0.011</td>\n",
       "      <td>-0.000</td>\n",
       "      <td>-0.024</td>\n",
       "      <td>0.055</td>\n",
       "      <td>0.245</td>\n",
       "      <td>0.092</td>\n",
       "      <td>0.305</td>\n",
       "      <td>-0.240</td>\n",
       "    </tr>\n",
       "    <tr>\n",
       "      <th>year_built</th>\n",
       "      <td>0.022</td>\n",
       "      <td>0.156</td>\n",
       "      <td>0.507</td>\n",
       "      <td>0.318</td>\n",
       "      <td>0.053</td>\n",
       "      <td>0.489</td>\n",
       "      <td>-0.024</td>\n",
       "      <td>-0.054</td>\n",
       "      <td>-0.362</td>\n",
       "      <td>0.448</td>\n",
       "      <td>...</td>\n",
       "      <td>0.004</td>\n",
       "      <td>-0.006</td>\n",
       "      <td>-0.006</td>\n",
       "      <td>0.007</td>\n",
       "      <td>-0.290</td>\n",
       "      <td>0.124</td>\n",
       "      <td>-0.145</td>\n",
       "      <td>0.074</td>\n",
       "      <td>0.267</td>\n",
       "      <td>-0.030</td>\n",
       "    </tr>\n",
       "    <tr>\n",
       "      <th>year_renovated</th>\n",
       "      <td>-0.011</td>\n",
       "      <td>0.018</td>\n",
       "      <td>0.047</td>\n",
       "      <td>0.051</td>\n",
       "      <td>0.005</td>\n",
       "      <td>0.004</td>\n",
       "      <td>0.074</td>\n",
       "      <td>0.090</td>\n",
       "      <td>-0.056</td>\n",
       "      <td>0.016</td>\n",
       "      <td>...</td>\n",
       "      <td>-0.020</td>\n",
       "      <td>0.008</td>\n",
       "      <td>0.008</td>\n",
       "      <td>0.001</td>\n",
       "      <td>0.098</td>\n",
       "      <td>0.035</td>\n",
       "      <td>0.148</td>\n",
       "      <td>0.045</td>\n",
       "      <td>0.026</td>\n",
       "      <td>-0.095</td>\n",
       "    </tr>\n",
       "    <tr>\n",
       "      <th>zipcode</th>\n",
       "      <td>-0.008</td>\n",
       "      <td>-0.154</td>\n",
       "      <td>-0.205</td>\n",
       "      <td>-0.200</td>\n",
       "      <td>-0.130</td>\n",
       "      <td>-0.060</td>\n",
       "      <td>0.029</td>\n",
       "      <td>0.084</td>\n",
       "      <td>0.003</td>\n",
       "      <td>-0.186</td>\n",
       "      <td>...</td>\n",
       "      <td>0.001</td>\n",
       "      <td>-0.000</td>\n",
       "      <td>-0.003</td>\n",
       "      <td>0.003</td>\n",
       "      <td>0.173</td>\n",
       "      <td>0.221</td>\n",
       "      <td>0.151</td>\n",
       "      <td>0.213</td>\n",
       "      <td>-0.307</td>\n",
       "      <td>0.044</td>\n",
       "    </tr>\n",
       "    <tr>\n",
       "      <th>lat</th>\n",
       "      <td>-0.002</td>\n",
       "      <td>-0.010</td>\n",
       "      <td>0.024</td>\n",
       "      <td>0.052</td>\n",
       "      <td>-0.086</td>\n",
       "      <td>0.049</td>\n",
       "      <td>-0.012</td>\n",
       "      <td>0.007</td>\n",
       "      <td>-0.015</td>\n",
       "      <td>0.114</td>\n",
       "      <td>...</td>\n",
       "      <td>-0.029</td>\n",
       "      <td>0.015</td>\n",
       "      <td>-0.015</td>\n",
       "      <td>-0.016</td>\n",
       "      <td>0.473</td>\n",
       "      <td>0.291</td>\n",
       "      <td>0.420</td>\n",
       "      <td>0.302</td>\n",
       "      <td>-0.001</td>\n",
       "      <td>-0.113</td>\n",
       "    </tr>\n",
       "    <tr>\n",
       "      <th>lon</th>\n",
       "      <td>0.021</td>\n",
       "      <td>0.132</td>\n",
       "      <td>0.225</td>\n",
       "      <td>0.241</td>\n",
       "      <td>0.230</td>\n",
       "      <td>0.126</td>\n",
       "      <td>-0.038</td>\n",
       "      <td>-0.077</td>\n",
       "      <td>-0.106</td>\n",
       "      <td>0.200</td>\n",
       "      <td>...</td>\n",
       "      <td>0.000</td>\n",
       "      <td>-0.008</td>\n",
       "      <td>-0.008</td>\n",
       "      <td>0.004</td>\n",
       "      <td>-0.237</td>\n",
       "      <td>-0.269</td>\n",
       "      <td>-0.212</td>\n",
       "      <td>-0.258</td>\n",
       "      <td>0.366</td>\n",
       "      <td>0.019</td>\n",
       "    </tr>\n",
       "    <tr>\n",
       "      <th>sqft_living15</th>\n",
       "      <td>-0.003</td>\n",
       "      <td>0.393</td>\n",
       "      <td>0.570</td>\n",
       "      <td>0.756</td>\n",
       "      <td>0.145</td>\n",
       "      <td>0.280</td>\n",
       "      <td>0.084</td>\n",
       "      <td>0.277</td>\n",
       "      <td>-0.093</td>\n",
       "      <td>0.714</td>\n",
       "      <td>...</td>\n",
       "      <td>-0.022</td>\n",
       "      <td>0.003</td>\n",
       "      <td>-0.009</td>\n",
       "      <td>0.004</td>\n",
       "      <td>0.039</td>\n",
       "      <td>-0.044</td>\n",
       "      <td>0.032</td>\n",
       "      <td>-0.020</td>\n",
       "      <td>0.874</td>\n",
       "      <td>-0.423</td>\n",
       "    </tr>\n",
       "    <tr>\n",
       "      <th>sqft_lot15</th>\n",
       "      <td>-0.139</td>\n",
       "      <td>0.031</td>\n",
       "      <td>0.088</td>\n",
       "      <td>0.184</td>\n",
       "      <td>0.718</td>\n",
       "      <td>-0.011</td>\n",
       "      <td>0.031</td>\n",
       "      <td>0.072</td>\n",
       "      <td>-0.003</td>\n",
       "      <td>0.121</td>\n",
       "      <td>...</td>\n",
       "      <td>0.000</td>\n",
       "      <td>0.003</td>\n",
       "      <td>-0.004</td>\n",
       "      <td>0.004</td>\n",
       "      <td>-0.059</td>\n",
       "      <td>-0.229</td>\n",
       "      <td>-0.016</td>\n",
       "      <td>-0.246</td>\n",
       "      <td>0.350</td>\n",
       "      <td>-0.052</td>\n",
       "    </tr>\n",
       "    <tr>\n",
       "      <th>price</th>\n",
       "      <td>-0.017</td>\n",
       "      <td>0.309</td>\n",
       "      <td>0.526</td>\n",
       "      <td>0.702</td>\n",
       "      <td>0.090</td>\n",
       "      <td>0.257</td>\n",
       "      <td>0.264</td>\n",
       "      <td>0.391</td>\n",
       "      <td>0.036</td>\n",
       "      <td>0.668</td>\n",
       "      <td>...</td>\n",
       "      <td>0.004</td>\n",
       "      <td>-0.010</td>\n",
       "      <td>-0.015</td>\n",
       "      <td>-0.002</td>\n",
       "      <td>0.556</td>\n",
       "      <td>0.308</td>\n",
       "      <td>0.776</td>\n",
       "      <td>0.384</td>\n",
       "      <td>0.596</td>\n",
       "      <td>-0.732</td>\n",
       "    </tr>\n",
       "    <tr>\n",
       "      <th>sales_year</th>\n",
       "      <td>0.010</td>\n",
       "      <td>-0.010</td>\n",
       "      <td>-0.027</td>\n",
       "      <td>-0.029</td>\n",
       "      <td>0.006</td>\n",
       "      <td>-0.022</td>\n",
       "      <td>-0.005</td>\n",
       "      <td>0.000</td>\n",
       "      <td>-0.046</td>\n",
       "      <td>-0.031</td>\n",
       "      <td>...</td>\n",
       "      <td>1.000</td>\n",
       "      <td>-0.782</td>\n",
       "      <td>-0.006</td>\n",
       "      <td>0.029</td>\n",
       "      <td>0.046</td>\n",
       "      <td>0.010</td>\n",
       "      <td>0.024</td>\n",
       "      <td>0.010</td>\n",
       "      <td>-0.023</td>\n",
       "      <td>-0.003</td>\n",
       "    </tr>\n",
       "    <tr>\n",
       "      <th>sales_month</th>\n",
       "      <td>-0.012</td>\n",
       "      <td>-0.001</td>\n",
       "      <td>0.008</td>\n",
       "      <td>0.012</td>\n",
       "      <td>-0.003</td>\n",
       "      <td>0.014</td>\n",
       "      <td>0.008</td>\n",
       "      <td>-0.004</td>\n",
       "      <td>0.022</td>\n",
       "      <td>0.009</td>\n",
       "      <td>...</td>\n",
       "      <td>-0.782</td>\n",
       "      <td>1.000</td>\n",
       "      <td>-0.061</td>\n",
       "      <td>-0.048</td>\n",
       "      <td>-0.035</td>\n",
       "      <td>-0.006</td>\n",
       "      <td>-0.019</td>\n",
       "      <td>-0.006</td>\n",
       "      <td>0.004</td>\n",
       "      <td>0.006</td>\n",
       "    </tr>\n",
       "    <tr>\n",
       "      <th>sales_day</th>\n",
       "      <td>0.002</td>\n",
       "      <td>-0.008</td>\n",
       "      <td>-0.005</td>\n",
       "      <td>-0.007</td>\n",
       "      <td>0.000</td>\n",
       "      <td>-0.006</td>\n",
       "      <td>0.014</td>\n",
       "      <td>0.010</td>\n",
       "      <td>-0.005</td>\n",
       "      <td>-0.013</td>\n",
       "      <td>...</td>\n",
       "      <td>-0.006</td>\n",
       "      <td>-0.061</td>\n",
       "      <td>1.000</td>\n",
       "      <td>0.006</td>\n",
       "      <td>-0.019</td>\n",
       "      <td>-0.013</td>\n",
       "      <td>-0.016</td>\n",
       "      <td>-0.014</td>\n",
       "      <td>-0.005</td>\n",
       "      <td>0.006</td>\n",
       "    </tr>\n",
       "    <tr>\n",
       "      <th>sales_day_of_week</th>\n",
       "      <td>-0.000</td>\n",
       "      <td>0.010</td>\n",
       "      <td>0.010</td>\n",
       "      <td>0.005</td>\n",
       "      <td>-0.003</td>\n",
       "      <td>0.002</td>\n",
       "      <td>-0.006</td>\n",
       "      <td>0.008</td>\n",
       "      <td>0.007</td>\n",
       "      <td>0.002</td>\n",
       "      <td>...</td>\n",
       "      <td>0.029</td>\n",
       "      <td>-0.048</td>\n",
       "      <td>0.006</td>\n",
       "      <td>1.000</td>\n",
       "      <td>-0.010</td>\n",
       "      <td>-0.002</td>\n",
       "      <td>-0.006</td>\n",
       "      <td>-0.006</td>\n",
       "      <td>0.006</td>\n",
       "      <td>-0.001</td>\n",
       "    </tr>\n",
       "    <tr>\n",
       "      <th>price_per_sqft_living</th>\n",
       "      <td>-0.005</td>\n",
       "      <td>-0.206</td>\n",
       "      <td>-0.090</td>\n",
       "      <td>-0.091</td>\n",
       "      <td>-0.035</td>\n",
       "      <td>0.005</td>\n",
       "      <td>0.187</td>\n",
       "      <td>0.220</td>\n",
       "      <td>0.103</td>\n",
       "      <td>0.125</td>\n",
       "      <td>...</td>\n",
       "      <td>0.046</td>\n",
       "      <td>-0.035</td>\n",
       "      <td>-0.019</td>\n",
       "      <td>-0.010</td>\n",
       "      <td>1.000</td>\n",
       "      <td>0.452</td>\n",
       "      <td>0.692</td>\n",
       "      <td>0.464</td>\n",
       "      <td>-0.093</td>\n",
       "      <td>-0.382</td>\n",
       "    </tr>\n",
       "    <tr>\n",
       "      <th>price_per_sqft_lot</th>\n",
       "      <td>0.060</td>\n",
       "      <td>-0.063</td>\n",
       "      <td>0.203</td>\n",
       "      <td>0.022</td>\n",
       "      <td>-0.206</td>\n",
       "      <td>0.478</td>\n",
       "      <td>0.028</td>\n",
       "      <td>0.078</td>\n",
       "      <td>-0.086</td>\n",
       "      <td>0.218</td>\n",
       "      <td>...</td>\n",
       "      <td>0.010</td>\n",
       "      <td>-0.006</td>\n",
       "      <td>-0.013</td>\n",
       "      <td>-0.002</td>\n",
       "      <td>0.452</td>\n",
       "      <td>1.000</td>\n",
       "      <td>0.473</td>\n",
       "      <td>0.885</td>\n",
       "      <td>-0.277</td>\n",
       "      <td>-0.201</td>\n",
       "    </tr>\n",
       "    <tr>\n",
       "      <th>price_per_sqft_living15</th>\n",
       "      <td>-0.012</td>\n",
       "      <td>0.133</td>\n",
       "      <td>0.282</td>\n",
       "      <td>0.352</td>\n",
       "      <td>0.018</td>\n",
       "      <td>0.179</td>\n",
       "      <td>0.214</td>\n",
       "      <td>0.258</td>\n",
       "      <td>0.098</td>\n",
       "      <td>0.365</td>\n",
       "      <td>...</td>\n",
       "      <td>0.024</td>\n",
       "      <td>-0.019</td>\n",
       "      <td>-0.016</td>\n",
       "      <td>-0.006</td>\n",
       "      <td>0.692</td>\n",
       "      <td>0.473</td>\n",
       "      <td>1.000</td>\n",
       "      <td>0.553</td>\n",
       "      <td>0.117</td>\n",
       "      <td>-0.542</td>\n",
       "    </tr>\n",
       "    <tr>\n",
       "      <th>price_per_sqft_lot15</th>\n",
       "      <td>0.065</td>\n",
       "      <td>-0.003</td>\n",
       "      <td>0.239</td>\n",
       "      <td>0.096</td>\n",
       "      <td>-0.194</td>\n",
       "      <td>0.453</td>\n",
       "      <td>0.034</td>\n",
       "      <td>0.103</td>\n",
       "      <td>-0.074</td>\n",
       "      <td>0.245</td>\n",
       "      <td>...</td>\n",
       "      <td>0.010</td>\n",
       "      <td>-0.006</td>\n",
       "      <td>-0.014</td>\n",
       "      <td>-0.006</td>\n",
       "      <td>0.464</td>\n",
       "      <td>0.885</td>\n",
       "      <td>0.553</td>\n",
       "      <td>1.000</td>\n",
       "      <td>-0.231</td>\n",
       "      <td>-0.253</td>\n",
       "    </tr>\n",
       "    <tr>\n",
       "      <th>price_per_sqft_mean</th>\n",
       "      <td>-0.052</td>\n",
       "      <td>0.481</td>\n",
       "      <td>0.589</td>\n",
       "      <td>0.865</td>\n",
       "      <td>0.300</td>\n",
       "      <td>0.163</td>\n",
       "      <td>0.109</td>\n",
       "      <td>0.272</td>\n",
       "      <td>-0.024</td>\n",
       "      <td>0.701</td>\n",
       "      <td>...</td>\n",
       "      <td>-0.023</td>\n",
       "      <td>0.004</td>\n",
       "      <td>-0.005</td>\n",
       "      <td>0.006</td>\n",
       "      <td>-0.093</td>\n",
       "      <td>-0.277</td>\n",
       "      <td>0.117</td>\n",
       "      <td>-0.231</td>\n",
       "      <td>1.000</td>\n",
       "      <td>-0.438</td>\n",
       "    </tr>\n",
       "    <tr>\n",
       "      <th>affordable</th>\n",
       "      <td>0.038</td>\n",
       "      <td>-0.204</td>\n",
       "      <td>-0.369</td>\n",
       "      <td>-0.504</td>\n",
       "      <td>-0.053</td>\n",
       "      <td>-0.158</td>\n",
       "      <td>-0.194</td>\n",
       "      <td>-0.346</td>\n",
       "      <td>-0.029</td>\n",
       "      <td>-0.483</td>\n",
       "      <td>...</td>\n",
       "      <td>-0.003</td>\n",
       "      <td>0.006</td>\n",
       "      <td>0.006</td>\n",
       "      <td>-0.001</td>\n",
       "      <td>-0.382</td>\n",
       "      <td>-0.201</td>\n",
       "      <td>-0.542</td>\n",
       "      <td>-0.253</td>\n",
       "      <td>-0.438</td>\n",
       "      <td>1.000</td>\n",
       "    </tr>\n",
       "  </tbody>\n",
       "</table>\n",
       "<p>30 rows × 30 columns</p>\n",
       "</div>"
      ],
      "text/plain": [
       "                            id  bedrooms  bathrooms  sqft_living  sqft_lot  \\\n",
       "id                       1.000     0.001      0.005       -0.012    -0.132   \n",
       "bedrooms                 0.001     1.000      0.515        0.578     0.032   \n",
       "bathrooms                0.005     0.515      1.000        0.756     0.088   \n",
       "sqft_living             -0.012     0.578      0.756        1.000     0.173   \n",
       "sqft_lot                -0.132     0.032      0.088        0.173     1.000   \n",
       "floors                   0.019     0.178      0.503        0.354    -0.005   \n",
       "waterfront              -0.004    -0.002      0.064        0.105     0.021   \n",
       "view                     0.013     0.078      0.185        0.280     0.075   \n",
       "condition               -0.024     0.026     -0.126       -0.059    -0.009   \n",
       "grade                    0.008     0.357      0.666        0.763     0.115   \n",
       "sqft_above              -0.011     0.479      0.687        0.876     0.184   \n",
       "sqft_basement           -0.004     0.297      0.278        0.429     0.015   \n",
       "year_built               0.022     0.156      0.507        0.318     0.053   \n",
       "year_renovated          -0.011     0.018      0.047        0.051     0.005   \n",
       "zipcode                 -0.008    -0.154     -0.205       -0.200    -0.130   \n",
       "lat                     -0.002    -0.010      0.024        0.052    -0.086   \n",
       "lon                      0.021     0.132      0.225        0.241     0.230   \n",
       "sqft_living15           -0.003     0.393      0.570        0.756     0.145   \n",
       "sqft_lot15              -0.139     0.031      0.088        0.184     0.718   \n",
       "price                   -0.017     0.309      0.526        0.702     0.090   \n",
       "sales_year               0.010    -0.010     -0.027       -0.029     0.006   \n",
       "sales_month             -0.012    -0.001      0.008        0.012    -0.003   \n",
       "sales_day                0.002    -0.008     -0.005       -0.007     0.000   \n",
       "sales_day_of_week       -0.000     0.010      0.010        0.005    -0.003   \n",
       "price_per_sqft_living   -0.005    -0.206     -0.090       -0.091    -0.035   \n",
       "price_per_sqft_lot       0.060    -0.063      0.203        0.022    -0.206   \n",
       "price_per_sqft_living15 -0.012     0.133      0.282        0.352     0.018   \n",
       "price_per_sqft_lot15     0.065    -0.003      0.239        0.096    -0.194   \n",
       "price_per_sqft_mean     -0.052     0.481      0.589        0.865     0.300   \n",
       "affordable               0.038    -0.204     -0.369       -0.504    -0.053   \n",
       "\n",
       "                         floors  waterfront   view  condition  grade  ...  \\\n",
       "id                        0.019      -0.004  0.013     -0.024  0.008  ...   \n",
       "bedrooms                  0.178      -0.002  0.078      0.026  0.357  ...   \n",
       "bathrooms                 0.503       0.064  0.185     -0.126  0.666  ...   \n",
       "sqft_living               0.354       0.105  0.280     -0.059  0.763  ...   \n",
       "sqft_lot                 -0.005       0.021  0.075     -0.009  0.115  ...   \n",
       "floors                    1.000       0.021  0.028     -0.264  0.459  ...   \n",
       "waterfront                0.021       1.000  0.379      0.017  0.083  ...   \n",
       "view                      0.028       0.379  1.000      0.045  0.248  ...   \n",
       "condition                -0.264       0.017  0.045      1.000 -0.147  ...   \n",
       "grade                     0.459       0.083  0.248     -0.147  1.000  ...   \n",
       "sqft_above                0.524       0.072  0.165     -0.159  0.756  ...   \n",
       "sqft_basement            -0.242       0.083  0.268      0.169  0.166  ...   \n",
       "year_built                0.489      -0.024 -0.054     -0.362  0.448  ...   \n",
       "year_renovated            0.004       0.074  0.090     -0.056  0.016  ...   \n",
       "zipcode                  -0.060       0.029  0.084      0.003 -0.186  ...   \n",
       "lat                       0.049      -0.012  0.007     -0.015  0.114  ...   \n",
       "lon                       0.126      -0.038 -0.077     -0.106  0.200  ...   \n",
       "sqft_living15             0.280       0.084  0.277     -0.093  0.714  ...   \n",
       "sqft_lot15               -0.011       0.031  0.072     -0.003  0.121  ...   \n",
       "price                     0.257       0.264  0.391      0.036  0.668  ...   \n",
       "sales_year               -0.022      -0.005  0.000     -0.046 -0.031  ...   \n",
       "sales_month               0.014       0.008 -0.004      0.022  0.009  ...   \n",
       "sales_day                -0.006       0.014  0.010     -0.005 -0.013  ...   \n",
       "sales_day_of_week         0.002      -0.006  0.008      0.007  0.002  ...   \n",
       "price_per_sqft_living     0.005       0.187  0.220      0.103  0.125  ...   \n",
       "price_per_sqft_lot        0.478       0.028  0.078     -0.086  0.218  ...   \n",
       "price_per_sqft_living15   0.179       0.214  0.258      0.098  0.365  ...   \n",
       "price_per_sqft_lot15      0.453       0.034  0.103     -0.074  0.245  ...   \n",
       "price_per_sqft_mean       0.163       0.109  0.272     -0.024  0.701  ...   \n",
       "affordable               -0.158      -0.194 -0.346     -0.029 -0.483  ...   \n",
       "\n",
       "                         sales_year  sales_month  sales_day  \\\n",
       "id                            0.010       -0.012      0.002   \n",
       "bedrooms                     -0.010       -0.001     -0.008   \n",
       "bathrooms                    -0.027        0.008     -0.005   \n",
       "sqft_living                  -0.029        0.012     -0.007   \n",
       "sqft_lot                      0.006       -0.003      0.000   \n",
       "floors                       -0.022        0.014     -0.006   \n",
       "waterfront                   -0.005        0.008      0.014   \n",
       "view                          0.000       -0.004      0.010   \n",
       "condition                    -0.046        0.022     -0.005   \n",
       "grade                        -0.031        0.009     -0.013   \n",
       "sqft_above                   -0.024        0.010     -0.003   \n",
       "sqft_basement                -0.015        0.007     -0.011   \n",
       "year_built                    0.004       -0.006     -0.006   \n",
       "year_renovated               -0.020        0.008      0.008   \n",
       "zipcode                       0.001       -0.000     -0.003   \n",
       "lat                          -0.029        0.015     -0.015   \n",
       "lon                           0.000       -0.008     -0.008   \n",
       "sqft_living15                -0.022        0.003     -0.009   \n",
       "sqft_lot15                    0.000        0.003     -0.004   \n",
       "price                         0.004       -0.010     -0.015   \n",
       "sales_year                    1.000       -0.782     -0.006   \n",
       "sales_month                  -0.782        1.000     -0.061   \n",
       "sales_day                    -0.006       -0.061      1.000   \n",
       "sales_day_of_week             0.029       -0.048      0.006   \n",
       "price_per_sqft_living         0.046       -0.035     -0.019   \n",
       "price_per_sqft_lot            0.010       -0.006     -0.013   \n",
       "price_per_sqft_living15       0.024       -0.019     -0.016   \n",
       "price_per_sqft_lot15          0.010       -0.006     -0.014   \n",
       "price_per_sqft_mean          -0.023        0.004     -0.005   \n",
       "affordable                   -0.003        0.006      0.006   \n",
       "\n",
       "                         sales_day_of_week  price_per_sqft_living  \\\n",
       "id                                  -0.000                 -0.005   \n",
       "bedrooms                             0.010                 -0.206   \n",
       "bathrooms                            0.010                 -0.090   \n",
       "sqft_living                          0.005                 -0.091   \n",
       "sqft_lot                            -0.003                 -0.035   \n",
       "floors                               0.002                  0.005   \n",
       "waterfront                          -0.006                  0.187   \n",
       "view                                 0.008                  0.220   \n",
       "condition                            0.007                  0.103   \n",
       "grade                                0.002                  0.125   \n",
       "sqft_above                           0.006                 -0.088   \n",
       "sqft_basement                       -0.000                 -0.024   \n",
       "year_built                           0.007                 -0.290   \n",
       "year_renovated                       0.001                  0.098   \n",
       "zipcode                              0.003                  0.173   \n",
       "lat                                 -0.016                  0.473   \n",
       "lon                                  0.004                 -0.237   \n",
       "sqft_living15                        0.004                  0.039   \n",
       "sqft_lot15                           0.004                 -0.059   \n",
       "price                               -0.002                  0.556   \n",
       "sales_year                           0.029                  0.046   \n",
       "sales_month                         -0.048                 -0.035   \n",
       "sales_day                            0.006                 -0.019   \n",
       "sales_day_of_week                    1.000                 -0.010   \n",
       "price_per_sqft_living               -0.010                  1.000   \n",
       "price_per_sqft_lot                  -0.002                  0.452   \n",
       "price_per_sqft_living15             -0.006                  0.692   \n",
       "price_per_sqft_lot15                -0.006                  0.464   \n",
       "price_per_sqft_mean                  0.006                 -0.093   \n",
       "affordable                          -0.001                 -0.382   \n",
       "\n",
       "                         price_per_sqft_lot  price_per_sqft_living15  \\\n",
       "id                                    0.060                   -0.012   \n",
       "bedrooms                             -0.063                    0.133   \n",
       "bathrooms                             0.203                    0.282   \n",
       "sqft_living                           0.022                    0.352   \n",
       "sqft_lot                             -0.206                    0.018   \n",
       "floors                                0.478                    0.179   \n",
       "waterfront                            0.028                    0.214   \n",
       "view                                  0.078                    0.258   \n",
       "condition                            -0.086                    0.098   \n",
       "grade                                 0.218                    0.365   \n",
       "sqft_above                           -0.005                    0.258   \n",
       "sqft_basement                         0.055                    0.245   \n",
       "year_built                            0.124                   -0.145   \n",
       "year_renovated                        0.035                    0.148   \n",
       "zipcode                               0.221                    0.151   \n",
       "lat                                   0.291                    0.420   \n",
       "lon                                  -0.269                   -0.212   \n",
       "sqft_living15                        -0.044                    0.032   \n",
       "sqft_lot15                           -0.229                   -0.016   \n",
       "price                                 0.308                    0.776   \n",
       "sales_year                            0.010                    0.024   \n",
       "sales_month                          -0.006                   -0.019   \n",
       "sales_day                            -0.013                   -0.016   \n",
       "sales_day_of_week                    -0.002                   -0.006   \n",
       "price_per_sqft_living                 0.452                    0.692   \n",
       "price_per_sqft_lot                    1.000                    0.473   \n",
       "price_per_sqft_living15               0.473                    1.000   \n",
       "price_per_sqft_lot15                  0.885                    0.553   \n",
       "price_per_sqft_mean                  -0.277                    0.117   \n",
       "affordable                           -0.201                   -0.542   \n",
       "\n",
       "                         price_per_sqft_lot15  price_per_sqft_mean  affordable  \n",
       "id                                      0.065               -0.052       0.038  \n",
       "bedrooms                               -0.003                0.481      -0.204  \n",
       "bathrooms                               0.239                0.589      -0.369  \n",
       "sqft_living                             0.096                0.865      -0.504  \n",
       "sqft_lot                               -0.194                0.300      -0.053  \n",
       "floors                                  0.453                0.163      -0.158  \n",
       "waterfront                              0.034                0.109      -0.194  \n",
       "view                                    0.103                0.272      -0.346  \n",
       "condition                              -0.074               -0.024      -0.029  \n",
       "grade                                   0.245                0.701      -0.483  \n",
       "sqft_above                              0.057                0.794      -0.430  \n",
       "sqft_basement                           0.092                0.305      -0.240  \n",
       "year_built                              0.074                0.267      -0.030  \n",
       "year_renovated                          0.045                0.026      -0.095  \n",
       "zipcode                                 0.213               -0.307       0.044  \n",
       "lat                                     0.302               -0.001      -0.113  \n",
       "lon                                    -0.258                0.366       0.019  \n",
       "sqft_living15                          -0.020                0.874      -0.423  \n",
       "sqft_lot15                             -0.246                0.350      -0.052  \n",
       "price                                   0.384                0.596      -0.732  \n",
       "sales_year                              0.010               -0.023      -0.003  \n",
       "sales_month                            -0.006                0.004       0.006  \n",
       "sales_day                              -0.014               -0.005       0.006  \n",
       "sales_day_of_week                      -0.006                0.006      -0.001  \n",
       "price_per_sqft_living                   0.464               -0.093      -0.382  \n",
       "price_per_sqft_lot                      0.885               -0.277      -0.201  \n",
       "price_per_sqft_living15                 0.553                0.117      -0.542  \n",
       "price_per_sqft_lot15                    1.000               -0.231      -0.253  \n",
       "price_per_sqft_mean                    -0.231                1.000      -0.438  \n",
       "affordable                             -0.253               -0.438       1.000  \n",
       "\n",
       "[30 rows x 30 columns]"
      ]
     },
     "execution_count": 315,
     "metadata": {},
     "output_type": "execute_result"
    }
   ],
   "source": [
    "corr"
   ]
  },
  {
   "cell_type": "code",
   "execution_count": 308,
   "metadata": {},
   "outputs": [],
   "source": [
    "corr = df.corr(\"pearson\")"
   ]
  },
  {
   "cell_type": "code",
   "execution_count": 309,
   "metadata": {},
   "outputs": [
    {
     "data": {
      "image/png": "[encoded data removed]",
      "text/plain": [
       "<Figure size 500x500 with 1 Axes>"
      ]
     },
     "metadata": {},
     "output_type": "display_data"
    }
   ],
   "source": [
    "plt.matshow(df.corr())\n",
    "plt.show()"
   ]
  },
  {
   "cell_type": "code",
   "execution_count": null,
   "metadata": {},
   "outputs": [],
   "source": []
  }
 ],
 "metadata": {
  "kernelspec": {
   "display_name": ".venv",
   "language": "python",
   "name": "python3"
  },
  "language_info": {
   "codemirror_mode": {
    "name": "ipython",
    "version": 3
   },
   "file_extension": ".py",
   "mimetype": "text/x-python",
   "name": "python",
   "nbconvert_exporter": "python",
   "pygments_lexer": "ipython3",
   "version": "3.9.8"
  },
  "orig_nbformat": 4
 },
 "nbformat": 4,
 "nbformat_minor": 2
}
